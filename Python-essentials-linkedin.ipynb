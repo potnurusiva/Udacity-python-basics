{
 "cells": [
  {
   "cell_type": "code",
   "execution_count": 4,
   "metadata": {},
   "outputs": [
    {
     "name": "stdout",
     "output_type": "stream",
     "text": [
      "This pythin version is 3.7.0\n",
      "number is 51\n",
      "number is 41\n",
      "number is 10\n",
      "x > y: x is 51 and y is 41\n"
     ]
    }
   ],
   "source": [
    "#!usr/bin/env pyhton3\n",
    "#comments\n",
    "\n",
    "import platform\n",
    "x,y = 51,41\n",
    "z = 10\n",
    "print ('This pythin version is {}' .format(platform.python_version()))\n",
    "print ('number is {}' .format(x))\n",
    "print ('number is %d' % y)\n",
    "print (f'number is {z}')\n",
    "if x < y: print('x < y: x is {} and y is {}'.format(x,y))\n",
    "elif x > y:  print(f'x > y: x is {x} and y is {y}')\n",
    "    \n",
    "else: print('x = y: x is {} and y is {}'.format(x,y))"
   ]
  },
  {
   "cell_type": "code",
   "execution_count": 15,
   "metadata": {},
   "outputs": [
    {
     "name": "stdout",
     "output_type": "stream",
     "text": [
      "This python version is 3.7.0\n"
     ]
    }
   ],
   "source": [
    "import platform\n",
    "def main():\n",
    "    message()\n",
    "    \n",
    "def message():\n",
    "    print('This python version is {}'.format(platform.python_version()))\n",
    "    \n",
    "if __name__ == '__main__': main()    "
   ]
  },
  {
   "cell_type": "code",
   "execution_count": 18,
   "metadata": {},
   "outputs": [
    {
     "name": "stdout",
     "output_type": "stream",
     "text": [
      "one\n",
      "two\n",
      "three\n",
      "four\n",
      "five\n",
      "0 1 1 2 3 5 8 13 21 34 55 89 144 233 377 610 \n",
      "\n",
      "one\n",
      "two\n",
      "three\n",
      "four\n",
      "five\n"
     ]
    }
   ],
   "source": [
    "words = ['one','two','three','four','five']\n",
    "n = 0\n",
    "while(n<5):\n",
    "         print(words[n])\n",
    "         n += 1\n",
    "\n",
    "#fibonocci series\n",
    "a,b = 0,1\n",
    "while(b<1000):\n",
    "    print(a, end=' ', flush=True)\n",
    "    a,b = b, a+b\n",
    "    \n",
    "#for loop\n",
    "print('\\n')\n",
    "for i in words: \n",
    "    print(i)"
   ]
  },
  {
   "cell_type": "code",
   "execution_count": 4,
   "metadata": {},
   "outputs": [
    {
     "name": "stdout",
     "output_type": "stream",
     "text": [
      "no output\n"
     ]
    }
   ],
   "source": [
    "for i in range(2,2):#no output range(start,stop, step) -defualt values start=0, step=1\n",
    "    print(i)\n",
    "print(\"no output\")"
   ]
  },
  {
   "cell_type": "code",
   "execution_count": 12,
   "metadata": {},
   "outputs": [
    {
     "name": "stdout",
     "output_type": "stream",
     "text": [
      "2 3 5 7 11 13 17 19 23 29 31 37 41 43 47 53 59 61 67 71 73 79 83 89 97 "
     ]
    }
   ],
   "source": [
    "#prime numbers\n",
    "def isprime(n):\n",
    "    if n <= 1:\n",
    "        return False\n",
    "    for x in range(2,n):\n",
    "        if n % x == 0:\n",
    "            return False\n",
    "    else:\n",
    "        return True\n",
    "def listprimes(x):\n",
    "    for n in range(x+1):\n",
    "        if isprime(n):\n",
    "            print(n, end= ' ', flush=True)\n",
    "listprimes(100)            "
   ]
  },
  {
   "cell_type": "code",
   "execution_count": 57,
   "metadata": {},
   "outputs": [
    {
     "name": "stdout",
     "output_type": "stream",
     "text": [
      "quack\n",
      "walking like a duck\n"
     ]
    }
   ],
   "source": [
    "#class\n",
    "class Duck:\n",
    "    sound = 'quack'\n",
    "    walking = 'walking like a duck'\n",
    "    def quack(self): #self is referenced to object but not class\n",
    "        print(self.sound)\n",
    "    def walk(self):\n",
    "        print(self.walking)\n",
    "\n",
    "def main():\n",
    "    donald=Duck() #donald is a object created for class Duck()..it's just an instance of class\n",
    "    donald.quack()\n",
    "    donald.walk()\n",
    "    \n",
    "if __name__ == '__main__' : main()"
   ]
  },
  {
   "cell_type": "code",
   "execution_count": 13,
   "metadata": {},
   "outputs": [
    {
     "name": "stdout",
     "output_type": "stream",
     "text": [
      "x is Seven\n",
      "<class 'str'>\n",
      "y is 800000000 00000009\n",
      "5.551115123125783e-17\n",
      "<class 'float'>\n"
     ]
    }
   ],
   "source": [
    "#String functions\n",
    "x=\"seven\".capitalize()\n",
    "print(f\"x is {x}\")\n",
    "print(type(x))\n",
    "#Left and right alignments\n",
    "a,b=8,9\n",
    "y=f'y is {a:<09} {b:>08}'  # <09-left alignment with trailing zeros, >08-right alignment with leading zeros\n",
    "print(y)\n",
    "\n",
    "a = .1 + .1 + .1 - .3 #problem with decimal values, precison upto 17 places after decimal point \n",
    "print(a)\n",
    "print(type(a))"
   ]
  },
  {
   "cell_type": "code",
   "execution_count": 35,
   "metadata": {},
   "outputs": [
    {
     "name": "stdout",
     "output_type": "stream",
     "text": [
      "0.00\n",
      "<class 'decimal.Decimal'>\n"
     ]
    }
   ],
   "source": [
    " from decimal import *  #better to use this one when you are dealing with money\n",
    "a = Decimal('0.10')\n",
    "b = a + a + a - 3*a\n",
    "print (b)\n",
    "print(type(b))\n"
   ]
  },
  {
   "cell_type": "code",
   "execution_count": 43,
   "metadata": {
    "scrolled": true
   },
   "outputs": [
    {
     "name": "stdout",
     "output_type": "stream",
     "text": [
      "c is False\n",
      "<class 'bool'>\n",
      "d is True\n",
      "<class 'bool'>\n",
      "e is None\n",
      "<class 'NoneType'>\n",
      "false\n"
     ]
    }
   ],
   "source": [
    "#bool types\n",
    "c = False\n",
    "print (f'c is {c}')\n",
    "print(type(c))\n",
    "d = 18>9\n",
    "print(f'd is {d}')\n",
    "print(type(d))\n",
    "e =None\n",
    "print(f'e is {e}')\n",
    "print(type(e))\n",
    "if e:\n",
    "    print('true')\n",
    "else:\n",
    "    print('false')"
   ]
  },
  {
   "cell_type": "code",
   "execution_count": 14,
   "metadata": {},
   "outputs": [
    {
     "name": "stdout",
     "output_type": "stream",
     "text": [
      "<class 'tuple'>\n",
      "<class 'tuple'>\n",
      "2056250690632\n",
      "2056255657928\n",
      "True\n",
      "\n",
      "\n",
      "Nope\n",
      "\n",
      "\n",
      "Checking wrong condition\n",
      "\n",
      "\n",
      "Yesssss, tuple man\n",
      "\n",
      "\n",
      "Fead the bear now\n"
     ]
    }
   ],
   "source": [
    "f=(\"one\",\"two\",3,5.7,[4,5,6],False) #tuples having the same values but contain different IDs\n",
    "g=(\"one\",\"two\",3,5.7,[4,5,6],False)\n",
    "print(type(f))\n",
    "print(type(g))\n",
    "print(id(f))\n",
    "print(id(g))\n",
    "\n",
    "if f == g:\n",
    "    print('True')\n",
    "else:\n",
    "    print('False')\n",
    "\n",
    "print('\\n')\n",
    "if f is g:    #Checks for IDs\n",
    "    print('Yep')\n",
    "else:\n",
    "    print('Nope')\n",
    "    \n",
    "print('\\n')   #new line\n",
    "if type(f) == 'tuple':\n",
    "    print('yes it is tuple')\n",
    "else:\n",
    "    print('Checking wrong condition')\n",
    "print('\\n')   \n",
    "if isinstance(f, tuple): #Similarly we can check for lists\n",
    "    print('Yesssss, tuple man')\n",
    "else:\n",
    "    print('OMG')\n",
    "    \n",
    "print('\\n')    \n",
    "#ternary operators\n",
    "hungry = True\n",
    "x = 'Fead the bear now' if hungry else \"Don't feed the bear right now\"\n",
    "print(x)"
   ]
  },
  {
   "cell_type": "code",
   "execution_count": 65,
   "metadata": {},
   "outputs": [
    {
     "name": "stdout",
     "output_type": "stream",
     "text": [
      "(hex) h is 0a, i is 02, and j is 02\n",
      "(bin) h is 00001010, i is 00000010, and j is 00000010\n",
      "(bin) h is 00001010, i is 00000010, and k is 00001010\n",
      "(bin) h is 00001010, i is 00000010, and l is 00001000\n",
      "(bin) h is 00001010, i is 00000010, and m is 00101000\n",
      "(bin) h is 00001010, i is 00000010, and n is 00000010\n"
     ]
    }
   ],
   "source": [
    "#bitwise operators &, |, ^, <<, >> (logical and, or, xor, left shift, right shift)\n",
    "h=0x0a\n",
    "i=0x02\n",
    "j=h & i\n",
    "k=h | i\n",
    "l=h ^ i\n",
    "m = h<<i\n",
    "n = h>>i\n",
    "print(f'(hex) h is {h:02x}, i is {i:02x}, and j is {j:02x}')\n",
    "print(f'(bin) h is {h:08b}, i is {i:08b}, and j is {j:08b}')\n",
    "print(f'(bin) h is {h:08b}, i is {i:08b}, and k is {k:08b}')\n",
    "print(f'(bin) h is {h:08b}, i is {i:08b}, and l is {l:08b}')\n",
    "print(f'(bin) h is {h:08b}, i is {i:08b}, and m is {m:08b}')\n",
    "print(f'(bin) h is {h:08b}, i is {i:08b}, and n is {n:08b}')"
   ]
  },
  {
   "cell_type": "code",
   "execution_count": 67,
   "metadata": {},
   "outputs": [
    {
     "name": "stdout",
     "output_type": "stream",
     "text": [
      "yes, its in o\n"
     ]
    }
   ],
   "source": [
    "o=('bear','leaf','tree','mango','plant')   #collection comparision\n",
    "p='bear'\n",
    "if p in o:\n",
    "    print('yes, its in o')\n",
    "else:\n",
    "    print('no')"
   ]
  },
  {
   "cell_type": "code",
   "execution_count": 5,
   "metadata": {},
   "outputs": [
    {
     "name": "stdout",
     "output_type": "stream",
     "text": [
      "1. What's the secret sword?we\n",
      "2. What's the secret sword?re\n",
      "3. What's the secret sword?we\n",
      "4. What's the secret sword?wew\n",
      "5. What's the secret sword?wew\n",
      "Not authorized. calling CBI...\n"
     ]
    }
   ],
   "source": [
    "#user input , while loop\n",
    "secret=\"swordfish\"\n",
    "pw= ' '\n",
    "i = 0\n",
    "auth = False\n",
    "while(pw!=secret):\n",
    "    i += 1\n",
    "    if i > 5: break #break-goes all the way out of the loop and skips the else condition\n",
    "    pw = input(f\"{i}. What's the secret sword?\")\n",
    "else: #else executes on normal completion of while loop..without break\n",
    "    auth=True\n",
    "\n",
    "print(\"Authorized\" if auth else \"Not authorized. calling CBI...\")\n",
    "   "
   ]
  },
  {
   "cell_type": "code",
   "execution_count": 7,
   "metadata": {},
   "outputs": [
    {
     "name": "stdout",
     "output_type": "stream",
     "text": [
      "meow\n",
      "5 1 0\n"
     ]
    }
   ],
   "source": [
    "#functions:  __name__ == __main__ : main() # main file. If it's imported into another module and execute in that, \n",
    "#we need to mention that file name instead of __main__\n",
    "#python-no distinguish between fucntion and procedure\n",
    "def main():\n",
    "    kitten(5)\n",
    "def kitten(a, b=1, c=0): # without default parameters first declared and then default parameters must be defined like b,c \n",
    "    print('meow')\n",
    "    print( a, b, c)\n",
    "if __name__ == '__main__': main()"
   ]
  },
  {
   "cell_type": "code",
   "execution_count": 19,
   "metadata": {
    "scrolled": true
   },
   "outputs": [
    {
     "name": "stdout",
     "output_type": "stream",
     "text": [
      "140707325931392\n",
      "140707325931392\n",
      "meow\n",
      "140707325931328\n",
      "3\n",
      "x in main is 5\n",
      "\n",
      "\n",
      "1289802227464\n",
      "1289802227464\n",
      "bow\n",
      "1289802227464\n",
      "[2]\n",
      "y in main is [2]\n"
     ]
    }
   ],
   "source": [
    "def main():\n",
    "    x=5\n",
    "    print(id(x))\n",
    "    kitten(x) #call by value - value is same and the id of the object also same...if the value changes in the object it doesn't \n",
    "    #reflect in the previous object because it's not pointing to it's reference\n",
    "    print(f'x in main is {x}')\n",
    "    \n",
    "    print('\\n')\n",
    "    y=[6]\n",
    "    print(id(y))\n",
    "    melton(y) #call by reference\n",
    "    print(f'y in main is {y}')\n",
    "def kitten(a): \n",
    "    print(id(a))\n",
    "    print('meow')\n",
    "    a=3  #integer is not mutable\n",
    "    print(id(a))\n",
    "    print( a)\n",
    "    \n",
    "def melton(b):\n",
    "    print(id(b))\n",
    "    print('bow')\n",
    "    b[0]=2 #changing the value using reference , so it is changing the value in b and y..list is mutable\n",
    "    print(id(b))\n",
    "    print(b)\n",
    "    \n",
    "if __name__ == '__main__': main()"
   ]
  },
  {
   "cell_type": "code",
   "execution_count": 25,
   "metadata": {},
   "outputs": [
    {
     "name": "stdout",
     "output_type": "stream",
     "text": [
      "4\n",
      "meow\n",
      "bow\n",
      "purr\n",
      "hello\n"
     ]
    }
   ],
   "source": [
    "#arguments\n",
    "def main():\n",
    "    x=('meow','bow','purr','hello')\n",
    "    kitten(*x)   #one astrik for list and 2 astriks for dictionary\n",
    "def kitten(*args):   #variable length arguments list - same function with different length arguments list\n",
    "    if len(args):\n",
    "        print(len(args))\n",
    "        for i in args: print (i)\n",
    "    else: print('Hi')\n",
    "if __name__ == '__main__': main()"
   ]
  },
  {
   "cell_type": "code",
   "execution_count": 16,
   "metadata": {},
   "outputs": [
    {
     "name": "stdout",
     "output_type": "stream",
     "text": [
      "3\n",
      "kitten dog says like bow\n",
      "kitten cow says like ambaa\n",
      "kitten cat says like meow\n"
     ]
    }
   ],
   "source": [
    "#key word arguments\n",
    "def main():\n",
    "    x=dict(dog='bow',cow='ambaa',cat='meow')\n",
    "    kitten(**x)   #one astrik for list and 2 astriks for dictionary\n",
    "    \n",
    "def kitten(**kwargs):   #variable length arguments list - same function with different length arguments list\n",
    "    if len(kwargs):\n",
    "        print(len(kwargs))\n",
    "        #for i in kwargs: \n",
    "         #   print (f'kitten {i} says {kwargs[i]}')\n",
    "        for k,v in kwargs.items(): \n",
    "            print (f'kitten {k} says like {v}')\n",
    "    else: print('Hi')\n",
    "        \n",
    "if __name__ == '__main__': main()"
   ]
  },
  {
   "cell_type": "code",
   "execution_count": 46,
   "metadata": {},
   "outputs": [
    {
     "name": "stdout",
     "output_type": "stream",
     "text": [
      "Hi\n",
      "<class 'NoneType'> None\n"
     ]
    }
   ],
   "source": [
    "#function return statement -if there is no return statement in function it return's None type\n",
    "def main():\n",
    "    x= kitten()   \n",
    "    print(type(x),x)\n",
    "def kitten():   \n",
    "    print('Hi')\n",
    "    #return [43,4322,566]   \n",
    "    #return dict(x=42, y=4322,z=566)    \n",
    "if __name__ == '__main__': main()"
   ]
  },
  {
   "cell_type": "code",
   "execution_count": 20,
   "metadata": {},
   "outputs": [
    {
     "name": "stdout",
     "output_type": "stream",
     "text": [
      "range error: expected at most 3 arguments, got 5\n"
     ]
    }
   ],
   "source": [
    "def main():\n",
    "    try:\n",
    "        for i in inlcusive_range(1,23,2,15,7):\n",
    "            print (i, end= ' ', flush=True)\n",
    "    except TypeError as e: #exceptions \n",
    "        print(f'range error: {e}') #getting error message 'e' from the function\n",
    "        \n",
    "def inlcusive_range(*args):\n",
    "    numargs = len(args)\n",
    "    start = 0\n",
    "    step = 1\n",
    "    if numargs < 1: raise TypeError(f'expected at least 1 argument, got {numargs}')\n",
    "    elif numargs == 1: stop = args[0]\n",
    "    elif numargs == 2: (start,stop) = args\n",
    "    elif numargs == 3: (start,stop,step) = args\n",
    "    else: raise TypeError(f'expected at most 3 arguments, got {numargs}')\n",
    "    \n",
    "    #generator\n",
    "    i=start\n",
    "    while i<=stop:\n",
    "        yield i #yield is like return except it's for a generator..it yields the value and function continues until it yields \n",
    "        #next value\n",
    "        i += step\n",
    "if __name__ == '__main__': main()        \n"
   ]
  },
  {
   "cell_type": "code",
   "execution_count": 64,
   "metadata": {},
   "outputs": [
    {
     "name": "stdout",
     "output_type": "stream",
     "text": [
      "1545819405.1423855\n",
      "BIG SUM is : 49995000\n",
      "1545819405.1463904\n",
      "elapsed time to calculate the big sum: 4.004955291748047 ms\n"
     ]
    }
   ],
   "source": [
    "import time\n",
    "\n",
    "def elapsedtime(f):\n",
    "    def wrapper():\n",
    "        t1= time.time()\n",
    "        print(t1)\n",
    "        f()\n",
    "        t2=time.time()\n",
    "        print(t2)\n",
    "        print(f'elapsed time to calculate the big sum: {(t2-t1)* 1000} ms')\n",
    "    return wrapper\n",
    "    \n",
    "@elapsedtime   #decorator---calls this function inside another function using the argument\n",
    "def bigsum():\n",
    "    numlist = []\n",
    "    for i in range(0,10000):\n",
    "        numlist.append(i)\n",
    "    print(f'BIG SUM is : {sum(numlist)}')\n",
    "\n",
    "def main():\n",
    "    bigsum()\n",
    "    \n",
    "if __name__ == '__main__': main()  \n",
    "    "
   ]
  },
  {
   "cell_type": "code",
   "execution_count": 24,
   "metadata": {
    "scrolled": false
   },
   "outputs": [
    {
     "name": "stdout",
     "output_type": "stream",
     "text": [
      "<class 'list'> ['carrom', 'badminton', 'cricket', 'chess', 'swimming', 'boxing', 'kabaddi', 'hockey', 'golf']\n",
      "length of the list is: 9\n",
      "carrom, badminton, cricket, chess, swimming, boxing, kabaddi, hockey, golf\n",
      "index of carrom is: 0\n",
      "carrom badminton vooley ball cricket chess swimming boxing kabaddi hockey golf football \n",
      "carrom badminton vooley ball cricket swimming boxing kabaddi hockey golf football \n",
      "football\n",
      "carrom badminton vooley ball cricket swimming boxing kabaddi hockey golf \n",
      "vooley ball\n",
      "carrom badminton cricket swimming boxing kabaddi hockey golf \n",
      "delete removes element by index\n",
      "carrom badminton swimming boxing kabaddi hockey golf \n",
      "carrom hockey golf \n"
     ]
    }
   ],
   "source": [
    "#data structures\n",
    "# list = [ ] --mutable,ordered\n",
    "# tuple = () --similat to list but immutable --you can't change the values in it once it is created\n",
    "# dictionary = {key: value }\n",
    "# set = { } -unordered list of unique values -useful for finding or operating on unique values in the sequence\n",
    "\n",
    "##--lists\n",
    "def main():\n",
    "    games = ['carrom','badminton','cricket','chess','swimming','boxing','kabaddi','hockey','golf']\n",
    "    print(type(games),games)\n",
    "    print(f'length of the list is: {len(games)}')\n",
    "    print(', '.join(games))  #join elements in the list by comma\n",
    "    i=games.index('carrom') #get the index of the element carrom\n",
    "    print(f'index of carrom is: {i}')\n",
    "    games.append('football') #appending at last \n",
    "    games.insert(2,'vooley ball') #inserting a new element at 2 position\n",
    "    print_list(games)\n",
    "    \n",
    "    games.remove('chess') #removes element by value in list\n",
    "    print_list(games)\n",
    "    y=games.pop() # #removes last element in list and returns the removed value\n",
    "    print(y)\n",
    "    print_list(games)\n",
    "    z=games.pop(2) #removes element at position 3 using pop\n",
    "    print(z)\n",
    "    print_list(games)\n",
    "    print('delete removes element by index')\n",
    "    del games[2]  #delete removes element by index\n",
    "    print_list(games)\n",
    "    del games[1:5] #remove elements by index slicing -starting from 1 , ending at 4th position [start:stop:step]\n",
    "    print_list(games)\n",
    "def print_list(o):\n",
    "    for x in o: print(x, end=' ' , flush=True)\n",
    "    print()\n",
    "    \n",
    "if __name__ == '__main__' :main()"
   ]
  },
  {
   "cell_type": "code",
   "execution_count": 119,
   "metadata": {},
   "outputs": [
    {
     "name": "stdout",
     "output_type": "stream",
     "text": [
      "-------keys--------\n",
      "dog\n",
      "cow\n",
      "cat\n",
      "tiger\n",
      "-------values--------\n",
      "bow\n",
      "ambaa\n",
      "meow\n",
      "roar\n",
      "----access by keys-----\n",
      "bow\n",
      "----checking by in condtion-----\n",
      "True\n",
      "False\n",
      "Found!\n",
      "Not found\n",
      "-------keys&values--------\n",
      "key- dog :value- bow\n",
      "key- cow :value- ambaa\n",
      "key- cat :value- meow\n",
      "key- tiger :value- Hey tiger....grrr\n",
      "key- monkey :value- Humans are back\n",
      "---accessing invalid keys-----\n",
      "None\n"
     ]
    }
   ],
   "source": [
    "# dictionary = {key: value }\n",
    "def main():\n",
    "    #animals=dict(dog='bow',cow='ambaa',cat='meow', tiger='roar') --dictionary declaration and initialization\n",
    "    animals={'dog' : 'bow','cow' : 'ambaa', 'cat' : 'meow', 'tiger' : 'roar'}\n",
    "    print('-------keys--------')\n",
    "    for k in animals.keys(): print(k) #only keys in dictionary\n",
    "    print('-------values--------')\n",
    "    for v in animals.values(): print(v) #only values in dictionary\n",
    "    print('----access by keys-----')\n",
    "    print(animals['dog']) #access by key\n",
    "    animals['tiger'] = 'Hey tiger....grrr' #assigneing a new value to the existing key\n",
    "    animals['monkey'] = 'Humans are back'  #adding a new element in dictionary\n",
    "    print('----checking by in condtion-----')\n",
    "    print('monkey' in animals)\n",
    "    print('lion' in animals)\n",
    "    print('Found!' if 'monkey' in animals else 'Not found') #conditional expression\n",
    "    print('Found!' if 'Lion' in animals else 'Not found') #conditional expression\n",
    "    print('-------keys&values--------')\n",
    "    for k,v in animals.items(): #key - value pait in dictionary\n",
    "             print(f'key- {k} :value- {v}')\n",
    "    print('---accessing invalid keys-----')\n",
    "    #print(animals['gadzilla']) #returns exception as the key mentioned is not avaliable..in order to avoid the \n",
    "    #exception better to use get method and it gives the none type\n",
    "    print(animals.get('gadzilla'))\n",
    "        \n",
    "if __name__ == '__main__': main()"
   ]
  },
  {
   "cell_type": "code",
   "execution_count": 28,
   "metadata": {},
   "outputs": [
    {
     "name": "stdout",
     "output_type": "stream",
     "text": [
      "{ '.abdeginortw}\n",
      "{.hns Ifirdctao,m'y}\n",
      "{ebgw}\n",
      "{bht,m' Iicgnf.wsdraeyo}\n",
      "{.od itran'}\n",
      "{bhsw,emyIcgf}\n"
     ]
    }
   ],
   "source": [
    "#set is similar to list but it is not allowed duplicates in it and unordered \n",
    "def main():\n",
    "    a=set(\"we're gonna need a bigger boat...\") #set means -all the unique characters \n",
    "    b=set(\"I'm sorry, man. I'm afraid I can't do that\")\n",
    "    print_set(sorted(a)) #sorted set and print elements in sorted order without duplicates\n",
    "    print_set(b) #print elements in unordered manner without duplicates\n",
    "    print_set(a-b) #print elements which are in set a but not in set b\n",
    "    print_set(a|b)#print elements which are in set a or in set b --all of the elements that are in one or both of the sets\n",
    "    print_set(a&b)#print elements which are in both set a and set b\n",
    "    print_set(a^b)#print elements in set a or set b but not in both the sets\n",
    "def print_set(o):\n",
    "    print('{',end= '')\n",
    "    for x in o: print (x, end='')\n",
    "    print('}')\n",
    "    \n",
    "if __name__=='__main__' :main()"
   ]
  },
  {
   "cell_type": "code",
   "execution_count": 171,
   "metadata": {},
   "outputs": [
    {
     "name": "stdout",
     "output_type": "stream",
     "text": [
      "<class 'list'>\n",
      "0 1 2 3 4 5 6 7 8 9 10 \n",
      "\n",
      "0 2 4 6 8 10 12 14 16 18 20 \n",
      "\n",
      "1 3 5 7 9 \n",
      "\n",
      "(0, 0) (1, 2) (2, 4) (3, 6) (4, 8) (5, 10) (6, 12) (7, 14) (8, 16) (9, 18) (10, 20) \n",
      "\n",
      "3.0 3.1 3.14 3.142 3.1416 3.14159 3.141593 3.1415927 3.14159265 3.141592654 3.1415926536 \n",
      "\n",
      "{0: 0, 1: 1, 2: 4, 3: 9, 4: 16, 5: 25, 6: 36, 7: 49, 8: 64, 9: 81, 10: 100}\n",
      "s r u e \n",
      "\n"
     ]
    }
   ],
   "source": [
    "#list comprehension\n",
    "def main():\n",
    "    seq=list(range(11))\n",
    "    print(type(seq))\n",
    "    seq2=[x * 2 for x in seq]#list comprehension\n",
    "    seq3=[x for x in seq if x%2==1]\n",
    "    seq4=[(x,x*2) for x in seq] #tuples\n",
    "    from math import pi\n",
    "    seq5=[round(pi,i) for i in seq]\n",
    "    seq6={x: x**2 for x in seq}  #dictionary\n",
    "    seq7={x for x in 'superduper' if x not in 'pd'} #set - without duplicates\n",
    "    print_list(seq)\n",
    "    print_list(seq2)\n",
    "    print_list(seq3)\n",
    "    print_list(seq4)\n",
    "    print_list(seq5)\n",
    "    print(seq6)\n",
    "    print_list(seq7)\n",
    "def print_list(o):\n",
    "    for x in o: print (x, end= ' ')\n",
    "    print('\\n')\n",
    "    \n",
    "if __name__=='__main__' :main()"
   ]
  },
  {
   "cell_type": "code",
   "execution_count": 32,
   "metadata": {},
   "outputs": [
    {
     "name": "stdout",
     "output_type": "stream",
     "text": [
      "[ [ 1 'two' 3 { 4: 'four' } 5 ] \n",
      "[ 0 1 2 3 4 5 6 7 8 9 10 ] \n",
      "{ ' ' '!' \"'\" 'I' 'S' 'a' 'b' 'd' 'e' 'i' 'l' 'm' 'n' 'p' 'r' 's' 't' 'u' } \n",
      "{ one: [ 0 1 2 3 4 5 6 7 8 9 10 ] two: [ 1 'two' 3 { 4: 'four' } 5 ] three: { ' ' '!' \"'\" 'I' 'S' 'a' 'b' 'd' 'e' 'i' 'l' 'm' 'n' 'p' 'r' 's' 't' 'u' } } \n",
      "( 'one' 'two' Nada 'four' 'five' ) \n",
      "] \n"
     ]
    }
   ],
   "source": [
    "#mixed data structure\n",
    "#!/usr/bin/env python3\n",
    "# Copyright 2009-2017 BHG http://bw.org/\n",
    "\n",
    "# globals\n",
    "dlevel = 0 # manage nesting level\n",
    "\n",
    "def main():\n",
    "    r = range(11)  #range\n",
    "    l = [ 1, 'two', 3, {'4': 'four' }, 5 ] #list\n",
    "    t = ( 'one', 'two', None, 'four', 'five' ) #tuple\n",
    "    s = set(\"It's a bird! It's a plane! It's Superman!\") #set\n",
    "    d = dict( one = r, two = l, three = s ) #dictionary\n",
    "    mixed = [ l, r, s, d, t ] #mixed dat structure\n",
    "    disp(mixed)\n",
    "\n",
    "def disp(o):\n",
    "    global dlevel\n",
    "\n",
    "    dlevel += 1\n",
    "    #print(dlevel)\n",
    "    if   isinstance(o, list):  print_list(o)\n",
    "    elif isinstance(o, range): print_list(o)\n",
    "    elif isinstance(o, tuple): print_tuple(o)\n",
    "    elif isinstance(o, set):   print_set(o)\n",
    "    elif isinstance(o, dict):  print_dict(o)\n",
    "    elif o is None: print('Nada', end=' ', flush=True)\n",
    "    else: print(repr(o), end=' ', flush=True)\n",
    "    dlevel -= 1\n",
    "\n",
    "    if dlevel <= 1: print() # newline after outer\n",
    "\n",
    "def print_list(o):\n",
    "    print('[', end=' ')\n",
    "    for x in o: disp(x)\n",
    "    print(']', end=' ', flush=True)\n",
    "\n",
    "def print_tuple(o):\n",
    "    print('(', end=' ')\n",
    "    for x in o: disp(x)\n",
    "    print(')', end=' ', flush=True)\n",
    "\n",
    "def print_set(o):\n",
    "    print('{', end=' ')\n",
    "    for x in sorted(o): disp(x)\n",
    "    print('}', end=' ', flush=True)\n",
    "\n",
    "def print_dict(o):\n",
    "    print('{', end=' ')\n",
    "    for k, v in o.items():\n",
    "        print(k, end=': ' )\n",
    "        disp(v)\n",
    "    print('}', end=' ', flush=True)\n",
    "\n",
    "if __name__ == '__main__': main()\n"
   ]
  },
  {
   "cell_type": "code",
   "execution_count": 37,
   "metadata": {},
   "outputs": [
    {
     "name": "stdout",
     "output_type": "stream",
     "text": [
      "The kitten is named \"fluffy\" and says \"rwar\".\n",
      "The duck is named \"donald\" and says \"quack\".\n",
      "The velociraptor is named \"veronica\" and says \"hello\".\n"
     ]
    }
   ],
   "source": [
    "#classes\n",
    "#!/usr/bin/env python3\n",
    "# Copyright 2009-2017 BHG http://bw.org/\n",
    "\n",
    "class Animal:\n",
    "    def __init__(self, type, name, sound): #special name which operates as an initializer or a constrctor. \n",
    "                                            #self-object method\n",
    "        self._type = type  #object variables\n",
    "        self._name = name\n",
    "        self._sound = sound\n",
    "    #def __init__(self, **kwargs): #special name which operates as an initializer or a constrctor. self-object method\n",
    "        #self._type = kwargs['type'] if 'type' in kwargs else 'kitten'  \n",
    "        #self._name = kwargs['name'] if 'name' in kwargs else 'fluffy'  \n",
    "        #self._sound = kwargs['sound'] if 'sound' in kwargs else 'rwar'  \n",
    "    def type(self):\n",
    "        return self._type\n",
    "\n",
    "    def name(self):\n",
    "        return self._name\n",
    "\n",
    "    def sound(self):\n",
    "        return self._sound\n",
    "\n",
    "def print_animal(o):\n",
    "    if not isinstance(o, Animal):\n",
    "        raise TypeError('print_animal(): requires an Animal')\n",
    "    print('The {} is named \"{}\" and says \"{}\".'.format(o.type(), o.name(), o.sound()))\n",
    "\n",
    "\n",
    "def main():\n",
    "    a0 = Animal('kitten', 'fluffy', 'rwar')\n",
    "    #a0= Animal(type='kitten', name='fluffy', sound='rwar')\n",
    "    a1 = Animal('duck', 'donald', 'quack')\n",
    "    print_animal(a0)\n",
    "    print_animal(a1)\n",
    "    print_animal(Animal('velociraptor', 'veronica', 'hello'))\n",
    "    #print_animal(Animal())\n",
    "if __name__ == '__main__': main()\n"
   ]
  },
  {
   "cell_type": "code",
   "execution_count": 196,
   "metadata": {},
   "outputs": [
    {
     "name": "stdout",
     "output_type": "stream",
     "text": [
      "The kitten is named \"fluffy\" and says \"rwar\".\n",
      "The duck is named \"donald\" and says \"quack\".\n",
      "The kitten is named \"fluffy\" and says \"bark\".\n",
      "The kitten is named \"fluffy\" and says \"meow\".\n",
      "kerala\n",
      "The kitten is named \"kerala\" and says \"bark\".\n",
      "The duck is named \"donald\" and says \"quack\".\n",
      "[1, 2, 3]\n",
      "[7, 2, 3]\n"
     ]
    }
   ],
   "source": [
    "#!/usr/bin/env python3\n",
    "# Copyright 2009-2017 BHG http://bw.org/\n",
    "\n",
    "class Animal:\n",
    "    x=[1,2,3] #CLASS variables and not encapsulated\n",
    "    def __init__(self, **kwargs):\n",
    "        self._type = kwargs['type'] if 'type' in kwargs else 'kitten'#object variables defined and instantiated \n",
    "                                                                     #when object created but not class\n",
    "                                                                                                                                         \n",
    "        self._name = kwargs['name'] if 'name' in kwargs else 'fluffy'\n",
    "        self._sound = kwargs['sound'] if 'sound' in kwargs else 'meow'\n",
    "\n",
    "    def type(self, t = None):\n",
    "        if t: self._type = t\n",
    "        return self._type\n",
    "\n",
    "    def name(self, n = None):\n",
    "        if n: self._name = n\n",
    "        return self._name\n",
    "\n",
    "    def sound(self, s = None):\n",
    "        if s: self._sound = s\n",
    "        return self._sound\n",
    "\n",
    "    def __str__(self):  #string representation of object -specially named method allows us to print the object\n",
    "        return f'The {self.type()} is named \"{self.name()}\" and says \"{self.sound()}\".'\n",
    "\n",
    "def main():\n",
    "    a0 = Animal(type = 'kitten', name = 'fluffy', sound = 'rwar')\n",
    "    a1 = Animal(type = 'duck', name = 'donald', sound = 'quack')\n",
    "    print(a0)\n",
    "    print(a1)\n",
    "    a0.sound('bark')\n",
    "    print(a0)\n",
    "    a3 = Animal()#default value from the init method\n",
    "    print(a3)\n",
    "    a0._name= 'kerala' #object varible assigning a new value\n",
    "    print(a0._name)\n",
    "    print(a0)\n",
    "    print(a1) #a1.name didn't change as it is a object variable\n",
    "    print(a0.x) #class variable\n",
    "    a1.x[0] = 7 #changed the value from a1 object but it reflects on all objects as it is a class variable\n",
    "    print(a0.x) #class variable\n",
    "    \n",
    "if __name__ == '__main__': main()\n"
   ]
  },
  {
   "cell_type": "code",
   "execution_count": 204,
   "metadata": {},
   "outputs": [
    {
     "name": "stdout",
     "output_type": "stream",
     "text": [
      "The kitten is named \"fluffy\" and says \"rwar\".\n",
      "The duck is named \"donald\" and says \"quack\".\n"
     ]
    }
   ],
   "source": [
    "#class inheritance\n",
    "#!/usr/bin/env python3\n",
    "# Copyright 2009-2017 BHG http://bw.org/\n",
    "\n",
    "class Animal:\n",
    "    def __init__(self, **kwargs):\n",
    "        if 'type' in kwargs: self._type = kwargs['type']\n",
    "        if 'name' in kwargs: self._name = kwargs['name']\n",
    "        if 'sound' in kwargs: self._sound = kwargs['sound']\n",
    "\n",
    "    def type(self, t = None):\n",
    "        if t: self._type = t\n",
    "        try: return self._type\n",
    "        except AttributeError: return None\n",
    "\n",
    "    def name(self, n = None):\n",
    "        if n: self._name = n\n",
    "        try: return self._name\n",
    "        except AttributeError: return None\n",
    "\n",
    "    def sound(self, s = None):\n",
    "        if s: self._sound = s\n",
    "        try: return self._sound\n",
    "        except AttributeError: return None\n",
    "\n",
    "class Duck(Animal):\n",
    "    def __init__(self, **kwargs):\n",
    "        self._type = 'duck'\n",
    "        if 'type' in kwargs: del kwargs['type']\n",
    "        super().__init__(**kwargs)\n",
    "\n",
    "class Kitten(Animal):\n",
    "    def __init__(self, **kwargs):\n",
    "        self._type = 'kitten'\n",
    "        if 'type' in kwargs: del kwargs['type']\n",
    "        super().__init__(**kwargs)\n",
    "\n",
    "def print_animal(o):\n",
    "    if not isinstance(o, Animal):\n",
    "        raise TypeError('print_animal(): requires an Animal')\n",
    "    print(f'The {o.type()} is named \"{o.name()}\" and says \"{o.sound()}\".')\n",
    "\n",
    "def main():\n",
    "    a0 = Kitten(name = 'fluffy', sound = 'rwar')\n",
    "    a1 = Duck(name = 'donald', sound = 'quack')\n",
    "    print_animal(a0)\n",
    "    print_animal(a1)\n",
    "\n",
    "if __name__ == '__main__': main()\n"
   ]
  },
  {
   "cell_type": "code",
   "execution_count": 40,
   "metadata": {},
   "outputs": [
    {
     "name": "stdout",
     "output_type": "stream",
     "text": [
      ".dlroW ,olleH\n"
     ]
    }
   ],
   "source": [
    "#!/usr/bin/env python3\n",
    "# Copyright 2009-2017 BHG http://bw.org/\n",
    "#built in method\n",
    "class RevStr(str):\n",
    "    def __str__(self):\n",
    "        return self[::-1]\n",
    "\n",
    "def main():\n",
    "    hello = RevStr('Hello, World.')\n",
    "    print(hello)\n",
    "\n",
    "if __name__ == '__main__': main()\n"
   ]
  },
  {
   "cell_type": "code",
   "execution_count": 42,
   "metadata": {},
   "outputs": [
    {
     "name": "stdout",
     "output_type": "stream",
     "text": [
      "0 1 2 3 4 5 6 7 8 9 10 11 12 13 14 15 16 17 18 19 20 21 22 23 24 25 \n"
     ]
    }
   ],
   "source": [
    "#!/usr/bin/env python3\n",
    "# Copyright 2009-2017 BHG http://bw.org/\n",
    "#iterator methods\n",
    "class inclusive_range:\n",
    "    def __init__(self, *args):\n",
    "        numargs = len(args)\n",
    "        self._start = 0\n",
    "        self._step = 1\n",
    "        \n",
    "        if numargs < 1:\n",
    "            raise TypeError(f'expected at least 1 argument, got {numargs}')\n",
    "        elif numargs == 1:\n",
    "            self._stop = args[0]\n",
    "        elif numargs == 2:\n",
    "            (self._start, self._stop) = args\n",
    "        elif numargs == 3:\n",
    "            (self._start, self._stop, self._step) = args\n",
    "        else: raise TypeError(f'expected at most 3 arguments, got {numargs}')\n",
    "\n",
    "        self._next = self._start\n",
    "    \n",
    "    def __iter__(self): #iterator method-simply identifies this object as iterator object\n",
    "        return self\n",
    "\n",
    "    def __next__(self): #next function which is iteration itself a constructor like for look for this next__ fucntion inorder to \n",
    "                        #treat this is an iterator\n",
    "        if self._next > self._stop:\n",
    "            raise StopIteration\n",
    "        else:\n",
    "            _r = self._next\n",
    "            self._next += self._step\n",
    "            return _r\n",
    "\n",
    "def main(x):\n",
    "    for n in inclusive_range(x):\n",
    "        print(n, end=' ')\n",
    "    print()\n",
    "\n",
    "if __name__ == '__main__': main(25)\n"
   ]
  },
  {
   "cell_type": "code",
   "execution_count": 48,
   "metadata": {},
   "outputs": [
    {
     "name": "stdout",
     "output_type": "stream",
     "text": [
      "I caught a value error\n",
      "Always prints\n"
     ]
    }
   ],
   "source": [
    "#exceptions-run time error reporting mechanism commonly used in OOP\n",
    "import sys\n",
    "def main():\n",
    "    try:\n",
    "        x=123/11\n",
    "        #y=5/0\n",
    "        x=int('Hello, World.') #exception occure because of invalid literal  \n",
    "    except ValueError:\n",
    "        print('I caught a value error')\n",
    "    #except ZeroDivisionError:\n",
    "        #print(\"don't divide by zero\")\n",
    "    except:\n",
    "        print(f'unknown error: {sys.exc_info()[1]}')\n",
    "    else:\n",
    "        print (f'good joooob {x}')\n",
    "    finally:\n",
    "        print(f'Always prints')\n",
    "    \n",
    "if __name__ == '__main__': main()"
   ]
  },
  {
   "cell_type": "code",
   "execution_count": 59,
   "metadata": {},
   "outputs": [
    {
     "name": "stdout",
     "output_type": "stream",
     "text": [
      "2056279407152\n",
      "2056280691696\n",
      "1. Hello, World.\n",
      "2. HELLO, WORLD.\n",
      "3. hello world\n",
      "Hello world\n",
      "5. Hello World\n",
      "6. hELLO, wORLD.\n",
      "7. hello, world. strasse\n",
      "8. hello, world. straße\n",
      "9. Hello, World. 456,5\n",
      "10. Hello, World. 12,6\n",
      "\n",
      "\n",
      "Hello, World.\n",
      "      \n",
      "      12.0\n",
      "      \n",
      "     \n",
      "Hello, World.12.0\n",
      "hello python HELLO PYTHON\n",
      "first string second string\n",
      "x is 45 and y is 74\n",
      "x is 74 and y is 45\n",
      "x is 74 and y is 45 and agan x is 45\n",
      "x is left justified with trailing spaces 45    and y is right justified with leading zeros 00074\n",
      "x is positive +0045 and y is negative 00074\n",
      "a value is 2,010,000,000\n",
      "a value with periods is 2.010.000.000\n"
     ]
    }
   ],
   "source": [
    "#Strings -immutable  and it creates a new object when we apply any transforamtion\n",
    "s1='hello python'\n",
    "s2=s1.upper() #it creates a new object and the ID of both s1 and s2 are different\n",
    "print(id(s1))\n",
    "print(id(s2))\n",
    "print('1. Hello, World.')\n",
    "print('2. Hello, World.'.upper()) #converts all characters into upper case\n",
    "print('3. HELLO World'.lower()) #converts all characters into lower case\n",
    "print('hello world'.capitalize()) #capitalizes the first character\n",
    "print('5. hello world'.title()) #converts first character of every word into uppercase\n",
    "print('6. Hello, World.'.swapcase()) #converts each and every character from upper to lower or lower to upper case  \n",
    "print('7. Hello, world. Straße'.casefold()) #similar to lower() -but converts all characters into lower in aggressive\n",
    "#here it converts german sharp ß into ss...lower can't do that way\n",
    "print('8. Hello, world. Straße'.lower())\n",
    "print('9. Hello, World. {},{}'.format(24*19, 2+3))\n",
    "print(f'10. Hello, World. {10+2},{2*3}')\n",
    "print(\"\"\"\n",
    "\n",
    "Hello, World.\n",
    "      \n",
    "      {}\n",
    "      \n",
    "     \"\"\".format(156/13))\n",
    "s='Hello, World.{}'\n",
    "print(s.format(120/10))\n",
    "\n",
    "#string concatenation\n",
    "s3=s1+ ' ' + s2\n",
    "print(s3)\n",
    "\n",
    "s4 = 'first string'  ' second string'\n",
    "print(s4)\n",
    "\n",
    "#string format\n",
    "x,y=45,74\n",
    "print('x is {aa} and y is {bb}'.format(aa=x, bb=y))\n",
    "print('x is {0} and y is {1}'.format(y,x))\n",
    "print('x is {1} and y is {0} and agan x is {0}'.format(x,y))\n",
    "#string formatting use : (column)\n",
    "print('x is left justified with trailing spaces {0:<5} and y is right justified with leading zeros {1:>05}'.format(x,y))\n",
    "print('x is positive {0:+05} and y is negative {1:-05}'.format(x,y))\n",
    "a=1005*200*10000\n",
    "print('a value is {:,}'.format(a))  #formatting value with commas\n",
    "#if you want to replace commas with period\n",
    "print('a value with periods is {:,}'.format(a).replace(',','.'))"
   ]
  },
  {
   "cell_type": "code",
   "execution_count": 32,
   "metadata": {},
   "outputs": [
    {
     "name": "stdout",
     "output_type": "stream",
     "text": [
      ".dlrow olleh\n"
     ]
    }
   ],
   "source": [
    "class Mystring(str):\n",
    "    def __str__(self):\n",
    "        return self[::-1]\n",
    "\n",
    "s=Mystring('hello world.')\n",
    "print(s)\n",
    "    "
   ]
  },
  {
   "cell_type": "code",
   "execution_count": 50,
   "metadata": {},
   "outputs": [
    {
     "name": "stdout",
     "output_type": "stream",
     "text": [
      "value g is 9600000.000000\n",
      "value g is 9600000.000\n",
      "value h in hexa decimal format 2a\n",
      "value h in octa format 52\n",
      "value h in binary format 101010\n",
      "value h in decimal format 42\n",
      "\n",
      "\n",
      "['this', 'is', 'a', 'long', 'string', 'with', 'a', 'bunch', 'of', 'words', 'in', 'it']\n",
      "['th', 's ', 's a long str', 'ng w', 'th a bunch of words ', 'n ', 't']\n",
      "this--is--a--long--string--with--a--bunch--of--words--in--it\n"
     ]
    }
   ],
   "source": [
    "#string formatting\n",
    "g=24*2000*200\n",
    "print('value g is {:f}'.format(g)) #f -for fixed number of decimal points\n",
    "print('value g is {:.3f}'.format(g)) #.3f - 3 places after decimal point\n",
    "\n",
    "h=42\n",
    "print(f'value h in hexa decimal format {h:x}') #hexa -x\n",
    "print(f'value h in octa format {h:o}') #octa -o\n",
    "print(f'value h in binary format {h:b}') #binary -b\n",
    "print(f'value h in decimal format {h:d}') #Decimal -d\n",
    "print('\\n')\n",
    "#string splitting and joining\n",
    "s='this is a long string with a bunch of words in it'\n",
    "print(s.split()) #split based on space (default)\n",
    "print(s.split('i'))\n",
    "j=s.split()#j has list now with splitted members from string s\n",
    "l='--'.join(j) #all the members in the list are joined with --\n",
    "print(l)"
   ]
  },
  {
   "cell_type": "code",
   "execution_count": 74,
   "metadata": {},
   "outputs": [
    {
     "name": "stdout",
     "output_type": "stream",
     "text": [
      "files\n",
      "01 The first line.\n",
      "02 The second line.\n",
      "03 The third line.\n",
      "04 The fourth line.\n",
      "05 The fifth line.\n",
      "06 The sixth line.\n",
      "07 The seventh line.\n",
      "08 The eight line.\n",
      "09 The ninth line.\n",
      "10 The tenth line.\n"
     ]
    }
   ],
   "source": [
    "#Files\n",
    "import os\n",
    "def main():\n",
    "    f = open(r'C:\\Users\\POSIVA\\Downloads\\Python material\\Linkedin\\Ex_Files_Python_EssT\\Chap12\\lines.txt') \n",
    "    #default mode is read which similar to f=open('file name', 'r') \n",
    "    #w -write (deletes the existing data in the file and starts writing from the start. If file doesn't exist it will\n",
    "    #create a new file\n",
    "    #a - append mode .adds the data to the existing  file - it's not empty the file , not create the file\n",
    "    #r+ - optional plus symbol allows us to open the file in both read and write mode\n",
    "    #r+t or r+b - opens the file in binary or text mode\n",
    "    print('files')\n",
    "    for line in f:\n",
    "        print(line.rstrip())  # rstrip() -removes the trailing spaces on each line\n",
    "        \n",
    "if __name__ == '__main__' : main()"
   ]
  },
  {
   "cell_type": "code",
   "execution_count": 78,
   "metadata": {},
   "outputs": [
    {
     "name": "stdout",
     "output_type": "stream",
     "text": [
      "..........\n",
      "done\n"
     ]
    }
   ],
   "source": [
    "#copying data from one file to other -text files\n",
    "\n",
    "def main():\n",
    "    infile = open(r'C:\\Users\\POSIVA\\Downloads\\Python material\\Linkedin\\Ex_Files_Python_EssT\\Chap12\\lines.txt', 'rt')\n",
    "    outfile = open('lines_copy.txt','wt')\n",
    "       \n",
    "    for line in infile:\n",
    "        #print(line.rstrip(), file=outfile)  \n",
    "        outfile.writelines(line)  #this will also copy data from one file to other but no rstrip()\n",
    "        print('.', end='', flush=True)\n",
    "    outfile.close()\n",
    "    infile.close()\n",
    "    print('\\ndone')\n",
    "        \n",
    "if __name__ == '__main__' : main()"
   ]
  },
  {
   "cell_type": "code",
   "execution_count": 79,
   "metadata": {},
   "outputs": [
    {
     "name": "stdout",
     "output_type": "stream",
     "text": [
      ".....................................................\n",
      "done\n"
     ]
    }
   ],
   "source": [
    "#copying data from one file to other -binary files\n",
    "\n",
    "def main():\n",
    "    infile = open(r'C:\\Users\\POSIVA\\Downloads\\Python material\\Linkedin\\Ex_Files_Python_EssT\\Chap12\\berlin.jpg', 'rb')\n",
    "    outfile = open('berlin_copy.jpg','wb')\n",
    "    \n",
    "    while True:\n",
    "        buf=infile.read(10240)  #10k size of buffer\n",
    "        if buf:\n",
    "            outfile.write(buf)\n",
    "            print('.', end='', flush=True)\n",
    "        else: break\n",
    "    outfile.close()\n",
    "    infile.close()\n",
    "    print('\\ndone')\n",
    "        \n",
    "if __name__ == '__main__' : main()"
   ]
  },
  {
   "cell_type": "code",
   "execution_count": 92,
   "metadata": {},
   "outputs": [
    {
     "name": "stdout",
     "output_type": "stream",
     "text": [
      "x  value is 47 type-<class 'str'>\n",
      "y  value is 47 type-<class 'int'>\n",
      "z  value is 47.0 type-<class 'float'>\n",
      "-4890.78\n",
      "b  value is 4890.78 type-<class 'float'>\n",
      "(15, 2)\n",
      "(43+7j)\n",
      "<class 'complex'>\n",
      "f value is (43+7j) type-<class 'complex'>\n"
     ]
    }
   ],
   "source": [
    "#built in functions\n",
    "#numeric functions\n",
    "x = '47'\n",
    "print(f'x  value is {x} type-{type(x)}')\n",
    "y=int(x)\n",
    "print(f'y  value is {y} type-{type(y)}')\n",
    "z=float(x)\n",
    "print(f'z  value is {z} type-{type(z)}')\n",
    "a=-4890.78\n",
    "print(a)\n",
    "b=abs(a)\n",
    "print(f'b  value is {b} type-{type(b)}')\n",
    "c=divmod(y,3) #returns quotient and remainder in tuple format\n",
    "print(c)\n",
    "d=43\n",
    "e=d+7j  #complex variable\n",
    "print(e)\n",
    "print(type(e))\n",
    "f=complex(d, 7)\n",
    "print(f'f value is {f} type-{type(f)}')"
   ]
  },
  {
   "cell_type": "code",
   "execution_count": 115,
   "metadata": {},
   "outputs": [
    {
     "name": "stdout",
     "output_type": "stream",
     "text": [
      "'Hello, world.'\n",
      "<__main__.bunny object at 0x000002C0A6364780>\n",
      "repr:the number of bunties is 73 🖖\n",
      "str:the number of bunties is 73\n",
      "repr:the number of bunties is 73 \\U0001f596\n",
      "🖖\n",
      "128406\n"
     ]
    }
   ],
   "source": [
    "#string functions\n",
    "p = 'Hello, world.'\n",
    "s = print(repr(p)) #It'll print the best possible   string representation of an object.\n",
    "\n",
    "class bunny:\n",
    "    def __init__(self,n):\n",
    "        self._n = n\n",
    "        \n",
    "x=bunny(73)\n",
    "print(x)\n",
    "\n",
    "class bujjy:\n",
    "    def __init__(self,o):\n",
    "        self._o = o\n",
    "    def __repr__(self):\n",
    "        return f'repr:the number of bunties is {self._o} 🖖'\n",
    "    def __str__(self):\n",
    "        return f'str:the number of bunties is {self._o}'\n",
    "        \n",
    "y=bujjy(73)\n",
    "print(repr(y))  #it takes the repr function\n",
    "print(y) #it takes the string function\n",
    "print(ascii(y))  #works similar to repr() but not suitable for special characters\n",
    "\n",
    "print(chr(128406)) #character representation of unicode 128406\n",
    "print(ord('🖖'))   #gives unicode of a character"
   ]
  },
  {
   "cell_type": "code",
   "execution_count": 143,
   "metadata": {},
   "outputs": [
    {
     "name": "stdout",
     "output_type": "stream",
     "text": [
      "(1, 2, 3, 4, 5, 6)\n",
      "(1, 2, 3, 4, 5, 6)\n",
      "sum of x is: 21\n",
      "sum of x and 10 is : 31\n",
      "max of x : 6 and min of x is : 1\n",
      "lenght of x is 6\n",
      "\n",
      "\n",
      "<reversed object at 0x000002C0A6378EF0>\n",
      "6\n",
      "5\n",
      "4\n",
      "3\n",
      "2\n",
      "1\n",
      "(6, 5, 4, 3, 2, 1)\n",
      "\n",
      "\n",
      "True\n",
      "True\n",
      "False\n",
      "False\n",
      "\n",
      "\n",
      "1 - 6\n",
      "2 - 5\n",
      "3 - 4\n",
      "4 - 3\n",
      "5 - 2\n",
      "6 - 1\n",
      "\n",
      "\n",
      "0 - cat\n",
      "1 - dog\n",
      "2 - bull\n",
      "3 - rabbit\n",
      "4 - tiger\n"
     ]
    }
   ],
   "source": [
    "#container functions\n",
    "x=(1,2,3,4,5,6) #tuple\n",
    "y=x\n",
    "z=len(x)\n",
    "print(x)\n",
    "print(y)\n",
    "print(f'sum of x is: {sum(x)}')\n",
    "print(f'sum of x and 10 is : {sum(x,10)}')\n",
    "print(f'max of x : {max(x)} and min of x is : {min(x)}')\n",
    "print(f'lenght of x is {z}')\n",
    "print('\\n')\n",
    "q=reversed(x)#reverse of all members in tuple x\n",
    "print(q)\n",
    "for i in q: print(i)\n",
    "w=tuple(reversed(x))\n",
    "print(w)\n",
    "print('\\n')\n",
    "print(any(x)) #any of the value is True in tuple x\n",
    "print(all(x)) #all values in x are true then it returns true\n",
    "r=(0,0,0,0,0,0,False)\n",
    "print(any(r))\n",
    "print(all(r))\n",
    "print('\\n')\n",
    "t=zip(x,w) #zip returns an iterator with two values in each item\n",
    "for a,b in t: print(f'{a} - {b}')\n",
    "print('\\n')    \n",
    "y=('cat','dog','bull','rabbit','tiger')\n",
    "for i,v in enumerate(y): print(f'{i} - {v}')#enumerate returns index and value"
   ]
  },
  {
   "cell_type": "code",
   "execution_count": 147,
   "metadata": {},
   "outputs": [
    {
     "name": "stdout",
     "output_type": "stream",
     "text": [
      "42\n",
      "<class 'int'>\n",
      "140707325932576\n",
      "True\n",
      "False\n"
     ]
    }
   ],
   "source": [
    "#objects and class functions\n",
    "x=42\n",
    "z=53.0\n",
    "print(x)\n",
    "print(type(x))\n",
    "print(id(x))\n",
    "y=isinstance(x, int)\n",
    "print(y)\n",
    "c=isinstance(z, int)\n",
    "print(c)"
   ]
  },
  {
   "cell_type": "code",
   "execution_count": 195,
   "metadata": {},
   "outputs": [
    {
     "name": "stdout",
     "output_type": "stream",
     "text": [
      "python version is 3.7.0\n",
      "platform win32\n",
      "OS name is nt\n",
      "OS Current working directory is C:\\Users\\POSIVA\\Downloads\\Python material\\Linkedin\\Ex_Files_Python_EssT\n",
      "random number from OS 5d283a9d73fdec2f9e43b821dc8bd4bd1781fc961718fc15d7\n",
      "random number between 1 and 1000 is 217\n",
      "[0, 1, 2, 3, 4, 5, 6, 7, 8, 9, 10, 11, 12, 13, 14, 15, 16, 17, 18, 19, 20, 21, 22, 23]\n",
      "[3, 0, 19, 9, 8, 4, 17, 15, 18, 2, 14, 1, 22, 16, 13, 21, 10, 5, 23, 6, 20, 12, 7, 11]\n"
     ]
    }
   ],
   "source": [
    "#modules\n",
    "import sys  #system module--platform, version\n",
    "import os   #operating system module\n",
    "import random \n",
    "def main():\n",
    "    v=sys.version_info\n",
    "    b=sys.platform\n",
    "    n=os.name\n",
    "    #m=os.getenv('PATH')\n",
    "    l=os.getcwd()\n",
    "    print('python version is {}.{}.{}'.format(*v))\n",
    "    print(f'platform {b}')\n",
    "    print(f'OS name is {n}')\n",
    "    #print(f'OS Path is {m}')\n",
    "    print(f'OS Current working directory is {l}')\n",
    "    k=os.urandom(25).hex()\n",
    "    print(f'random number from OS {k}')\n",
    "    j=random.randint(1,1000)\n",
    "    print(f'random number between 1 and 1000 is {j}')\n",
    "    h=list(range(24))\n",
    "    print(h)\n",
    "    random.shuffle(h)\n",
    "    print(h)\n",
    "\n",
    "if __name__ == '__main__' :main()"
   ]
  },
  {
   "cell_type": "code",
   "execution_count": 199,
   "metadata": {},
   "outputs": [
    {
     "name": "stdout",
     "output_type": "stream",
     "text": [
      "2018-12-30 16:10:48.336237\n",
      "2018 12 30 16 10 48 336237\n"
     ]
    }
   ],
   "source": [
    "#date and time\n",
    "import datetime\n",
    "now=datetime.datetime.now()\n",
    "print(now)\n",
    "print(now.year, now.month, now.day, now.hour, now.minute, now.second, now.microsecond)"
   ]
  },
  {
   "cell_type": "code",
   "execution_count": 206,
   "metadata": {},
   "outputs": [
    {
     "name": "stdout",
     "output_type": "stream",
     "text": [
      "connect\n",
      "create\n",
      "insert row\n",
      "insert row\n",
      "insert row\n",
      "commit\n",
      "count\n",
      "there are 3 rows in the table.\n",
      "read\n",
      "(1, 'one', 1)\n",
      "(2, 'two', 2)\n",
      "(3, 'three', 3)\n",
      "drop\n",
      "close\n"
     ]
    }
   ],
   "source": [
    "#databases\n",
    "#!/usr/bin/env python3\n",
    "# Copyright 2009-2017 BHG http://bw.org/\n",
    "\n",
    "import sqlite3\n",
    "\n",
    "def main():\n",
    "    print('connect')\n",
    "    db = sqlite3.connect('db-api.db')\n",
    "    cur = db.cursor()\n",
    "    print('create')\n",
    "    cur.execute(\"DROP TABLE IF EXISTS test\")\n",
    "    cur.execute(\"\"\"\n",
    "        CREATE TABLE test (\n",
    "            id INTEGER PRIMARY KEY, string TEXT, number INTEGER\n",
    "        )\n",
    "        \"\"\")\n",
    "    print('insert row')\n",
    "    cur.execute(\"\"\"\n",
    "        INSERT INTO test (string, number) VALUES ('one', 1)\n",
    "        \"\"\")\n",
    "    print('insert row')\n",
    "    cur.execute(\"\"\"\n",
    "        INSERT INTO test (string, number) VALUES ('two', 2)\n",
    "        \"\"\")\n",
    "    print('insert row')\n",
    "    cur.execute(\"\"\"\n",
    "        INSERT INTO test (string, number) VALUES ('three', 3)\n",
    "        \"\"\")\n",
    "    print('commit')\n",
    "    db.commit()\n",
    "    print('count')\n",
    "    cur.execute(\"SELECT COUNT(*) FROM test\")\n",
    "    count = cur.fetchone()[0]\n",
    "    print(f'there are {count} rows in the table.')\n",
    "    print('read')\n",
    "    for row in cur.execute(\"SELECT * FROM test\"):\n",
    "        print(row)\n",
    "    print('drop')\n",
    "    cur.execute(\"DROP TABLE test\")\n",
    "    print('close')\n",
    "    db.close()\n",
    "    \n",
    "if __name__ == '__main__': main()\n"
   ]
  }
 ],
 "metadata": {
  "kernelspec": {
   "display_name": "Python 3",
   "language": "python",
   "name": "python3"
  },
  "language_info": {
   "codemirror_mode": {
    "name": "ipython",
    "version": 3
   },
   "file_extension": ".py",
   "mimetype": "text/x-python",
   "name": "python",
   "nbconvert_exporter": "python",
   "pygments_lexer": "ipython3",
   "version": "3.7.0"
  }
 },
 "nbformat": 4,
 "nbformat_minor": 2
}
