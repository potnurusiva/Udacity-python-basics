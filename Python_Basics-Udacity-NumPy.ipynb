{
 "cells": [
  {
   "cell_type": "code",
   "execution_count": 2,
   "metadata": {},
   "outputs": [],
   "source": [
    "#numpy - numerical python and it's a fundamental package for scientific computing in Python. NumPy provides \n",
    "#Python with an extensive math library capable of performing numerical computations effectively and efficiently. \n",
    "import numpy as np\n",
    "import time"
   ]
  },
  {
   "cell_type": "code",
   "execution_count": 4,
   "metadata": {
    "scrolled": true
   },
   "outputs": [],
   "source": [
    "x = np.random.random(100000000)\n",
    "#print(x)"
   ]
  },
  {
   "cell_type": "code",
   "execution_count": 5,
   "metadata": {},
   "outputs": [
    {
     "name": "stdout",
     "output_type": "stream",
     "text": [
      "7.44398307800293\n"
     ]
    }
   ],
   "source": [
    "start = time.time()\n",
    "sum(x)/len(x)\n",
    "print(time.time() - start)  #normal python took 7.44 seconds to complete the mean of 100000000 random values"
   ]
  },
  {
   "cell_type": "code",
   "execution_count": 6,
   "metadata": {},
   "outputs": [
    {
     "name": "stdout",
     "output_type": "stream",
     "text": [
      "0.1293492317199707\n"
     ]
    }
   ],
   "source": [
    "start1 = time.time()\n",
    "np.mean(x)\n",
    "print(time.time() - start1) #numpy took approximately 0.1 second to complete the above transaction"
   ]
  },
  {
   "cell_type": "code",
   "execution_count": 9,
   "metadata": {},
   "outputs": [
    {
     "name": "stdout",
     "output_type": "stream",
     "text": [
      "[ 1  2  4  4 56  5]\n",
      "<class 'numpy.ndarray'>\n",
      "int32\n",
      "(6,)\n",
      "6\n"
     ]
    }
   ],
   "source": [
    "y = np.array([1,2,4,4,56,5]) #ndarray (n dimensional array creation using the array function and giving list as i/p)\n",
    "print(y) \n",
    "print(type(y)) #gives the type of y \n",
    "print(y.dtype) #gives the type of all elements in ndarray y\n",
    "print(y.shape) #give the number of columns in ndarray if it is 1 dimensional\n",
    "print(y.size)  #gives the total number of elements in ndarray"
   ]
  },
  {
   "cell_type": "code",
   "execution_count": 12,
   "metadata": {},
   "outputs": [
    {
     "name": "stdout",
     "output_type": "stream",
     "text": [
      "[[1 2 3]\n",
      " [4 5 6]\n",
      " [7 8 9]\n",
      " [0 1 2]]\n",
      "(4, 3)\n",
      "12\n"
     ]
    }
   ],
   "source": [
    "z = np.array([[1,2,3],[4,5,6],[7,8,9],[0,1,2]]) #two dimensional array -rank2 array\n",
    "print(z)\n",
    "print(z.shape) #gives the total number of rows, columns\n",
    "print(z.size)  #gives the total number of elements in array"
   ]
  },
  {
   "cell_type": "code",
   "execution_count": 13,
   "metadata": {},
   "outputs": [
    {
     "name": "stdout",
     "output_type": "stream",
     "text": [
      "['hello' 'world']\n",
      "shape (2,)\n",
      "type <class 'numpy.ndarray'>\n",
      "dtype <U5\n"
     ]
    }
   ],
   "source": [
    "a = np.array(['hello','world'])\n",
    "print(a)\n",
    "print('shape', a.shape)\n",
    "print('type', type(a))\n",
    "print('dtype',a.dtype)  #numpy creates an array it automatically assign it's dtype based on the elements you used\n",
    "#to create an array. Here it is unicode strings with 5 characters"
   ]
  },
  {
   "cell_type": "code",
   "execution_count": 14,
   "metadata": {},
   "outputs": [
    {
     "name": "stdout",
     "output_type": "stream",
     "text": [
      "['1' '3.5' '4' 'hello' 'world']\n",
      "shape (5,)\n",
      "type <class 'numpy.ndarray'>\n",
      "dtype <U32\n"
     ]
    }
   ],
   "source": [
    "b = np.array([1,3.5,4,'hello','world']) #list contains mixed data types\n",
    "print(b)\n",
    "print('shape', b.shape)\n",
    "print('type', type(b))\n",
    "print('dtype',b.dtype)  #numpy creates an array it automatically assign it's dtype based on the elements you used\n",
    "#to create an array. Here it is unicode strings with 32 characters. Unlike python lists numpy arrays must contain \n",
    "#elements of the same data type"
   ]
  },
  {
   "cell_type": "code",
   "execution_count": 16,
   "metadata": {},
   "outputs": [
    {
     "name": "stdout",
     "output_type": "stream",
     "text": [
      "[1.  2.  3.4 5. ]\n",
      "dtype float64\n"
     ]
    }
   ],
   "source": [
    "c = np.array([1,2,3.4,5])\n",
    "print(c)\n",
    "print('dtype',c.dtype)#upcasting-all integers to float data type to avoid losing precision in numerical operations"
   ]
  },
  {
   "cell_type": "code",
   "execution_count": 4,
   "metadata": {},
   "outputs": [
    {
     "name": "stdout",
     "output_type": "stream",
     "text": [
      "[2 4 5 7]\n"
     ]
    }
   ],
   "source": [
    "d = np.array([2.3,4,5.6,7.89], dtype=np.int64) #trying to create ndarray by passing dtype as int64\n",
    "print(d) #creates only integers as elements in the array as we have passed dtype = np.int64"
   ]
  },
  {
   "cell_type": "code",
   "execution_count": 5,
   "metadata": {},
   "outputs": [
    {
     "name": "stdout",
     "output_type": "stream",
     "text": [
      "[1 2 3 4 5]\n"
     ]
    }
   ],
   "source": [
    "e = np.array([1,2,3,4,5])\n",
    "np.save('my_array',e) #this saves the numpy array in my_array.npy file in the current directory\n",
    "f = np.load('my_array.npy') #this loads the data from file my_array.npy to array f\n",
    "print(f)"
   ]
  },
  {
   "cell_type": "code",
   "execution_count": 8,
   "metadata": {},
   "outputs": [
    {
     "name": "stdout",
     "output_type": "stream",
     "text": [
      "[[0. 0. 0. 0.]\n",
      " [0. 0. 0. 0.]\n",
      " [0. 0. 0. 0.]]\n",
      "type <class 'numpy.ndarray'>\n",
      "dtype float64\n",
      "shape (3, 4)\n",
      "size 12\n"
     ]
    }
   ],
   "source": [
    "#Use builtin functions to create ndarrays----function 'zeros'\n",
    "f = np.zeros((3,4)) #tuple (3,4) represents 3 rows and 4 columns with values zeros\n",
    "print(f)\n",
    "print('type', type(f))\n",
    "print('dtype',f.dtype) #it creates an array with default dtype as float64\n",
    "print('shape',f.shape)\n",
    "print('size',f.size)"
   ]
  },
  {
   "cell_type": "code",
   "execution_count": 10,
   "metadata": {},
   "outputs": [
    {
     "name": "stdout",
     "output_type": "stream",
     "text": [
      "[[1 1 1 1]\n",
      " [1 1 1 1]\n",
      " [1 1 1 1]]\n",
      "type <class 'numpy.ndarray'>\n",
      "dtype int32\n",
      "shape (3, 4)\n",
      "size 12\n"
     ]
    }
   ],
   "source": [
    "#functions 'ones'\n",
    "g = np.ones((3,4),dtype=np.int) #tuple (3,4) represents 3 rows and 4 columns with values zeros\n",
    "print(g)\n",
    "print('type', type(g))\n",
    "print('dtype',g.dtype) #it creates an array with default dtype as float64\n",
    "print('shape',g.shape)\n",
    "print('size',g.size)"
   ]
  },
  {
   "cell_type": "code",
   "execution_count": 79,
   "metadata": {},
   "outputs": [
    {
     "name": "stdout",
     "output_type": "stream",
     "text": [
      "[[5 5 5 5]\n",
      " [5 5 5 5]\n",
      " [5 5 5 5]]\n",
      "type <class 'numpy.ndarray'>\n",
      "dtype int32\n",
      "shape (3, 4)\n",
      "size 12\n"
     ]
    }
   ],
   "source": [
    "#In addition to ones and zeros, we can create an array filled with any constant values using 'full' function\n",
    "h = np.full((3,4),5) #tuple (3,4) represents 3 rows and 4 columns with values zeros and this function defaultly \n",
    "#creates the dtype of the array with argument datatype here it is 5 ->int32\n",
    "print(h)\n",
    "print('type', type(h))\n",
    "print('dtype',h.dtype) #it creates an array with default dtype as float64\n",
    "print('shape',h.shape)\n",
    "print('size',h.size)"
   ]
  },
  {
   "cell_type": "code",
   "execution_count": 14,
   "metadata": {},
   "outputs": [
    {
     "name": "stdout",
     "output_type": "stream",
     "text": [
      "[[1. 0. 0. 0. 0.]\n",
      " [0. 1. 0. 0. 0.]\n",
      " [0. 0. 1. 0. 0.]\n",
      " [0. 0. 0. 1. 0.]\n",
      " [0. 0. 0. 0. 1.]]\n"
     ]
    }
   ],
   "source": [
    "#function 'eye' used to create identity matrices (square) and takes only one argument of shape\n",
    "i = np.eye(5) # it creates 5 X 5 identity matrix\n",
    "print(i)"
   ]
  },
  {
   "cell_type": "code",
   "execution_count": 15,
   "metadata": {},
   "outputs": [
    {
     "name": "stdout",
     "output_type": "stream",
     "text": [
      "[[10  0  0  0]\n",
      " [ 0 20  0  0]\n",
      " [ 0  0 30  0]\n",
      " [ 0  0  0 40]]\n"
     ]
    }
   ],
   "source": [
    "#function 'diag' used to create a diagonal square matrix with the passing values\n",
    "j = np.diag([10,20,30,40])\n",
    "print(j)"
   ]
  },
  {
   "cell_type": "code",
   "execution_count": 80,
   "metadata": {},
   "outputs": [
    {
     "name": "stdout",
     "output_type": "stream",
     "text": [
      "[0 1 2 3 4 5 6 7 8 9]\n",
      "[10 11 12 13 14 15 16 17 18 19]\n",
      "[10 12 14 16 18]\n",
      "[1.  1.5 2.  2.5 3.  3.5 4.  4.5]\n"
     ]
    }
   ],
   "source": [
    "#function 'arange' used to create rank 1 array with the argument start, stop, step\n",
    "k = np.arange(10) #stop argument\n",
    "print(k)\n",
    "l = np.arange(10,20) #start , stop arguments\n",
    "print(l)\n",
    "m = np.arange(10,20,2) #start, stop, step arguments\n",
    "print(m)\n",
    "n = np.arange(1,5,0.5)\n",
    "print(n)"
   ]
  },
  {
   "cell_type": "code",
   "execution_count": 19,
   "metadata": {},
   "outputs": [
    {
     "name": "stdout",
     "output_type": "stream",
     "text": [
      "[10.         11.11111111 12.22222222 13.33333333 14.44444444 15.55555556\n",
      " 16.66666667 17.77777778 18.88888889 20.        ]\n",
      "o has dimensions: (10,)\n",
      "o is an object of type: <class 'numpy.ndarray'>\n",
      "The elements in o are of type: float64\n"
     ]
    }
   ],
   "source": [
    "#Even though the np.arange() function allows for non-integer steps, such as 0.3, the output is usually \n",
    "#inconsistent, due to the finite floating point precision. For this reason, in the cases where non-integer steps \n",
    "#are required, it is usually better to use the function np.linspace(). The np.linspace(start, stop, N) function \n",
    "#returns N evenly spaced numbers over the closed interval [start, stop]. This means that both the start and \n",
    "#the stop values are included. We should also note the np.linspace() function needs to be called with at least \n",
    "#two arguments in the form np.linspace(start,stop). In this case, the default number of elements in the specified \n",
    "#interval will be N= 50. The reason np.linspace() works better than the np.arange() function, is that \n",
    "#np.linspace() uses the number of elements we want in a particular interval, instead of the step between values. \n",
    "o = np.linspace(10,20,10) #here 10, 20 both are inclusive and it gives 10 equally spaced values\n",
    "print(o)\n",
    "print('o has dimensions:', o.shape)\n",
    "print('o is an object of type:', type(o))\n",
    "print('The elements in o are of type:', o.dtype)"
   ]
  },
  {
   "cell_type": "code",
   "execution_count": 22,
   "metadata": {},
   "outputs": [
    {
     "name": "stdout",
     "output_type": "stream",
     "text": [
      "[10. 11. 12. 13. 14. 15. 16. 17. 18. 19.]\n",
      "p has dimensions: (10,)\n",
      "p is an object of type: <class 'numpy.ndarray'>\n",
      "The elements in p are of type: float64\n"
     ]
    }
   ],
   "source": [
    "#if you want to exclude end value similar to arange function use endpoint = False in linspace function\n",
    "p = np.linspace(10,20,10, endpoint = False) #here 10 is inclusive and 20 is exclusive and it gives 10 equally spaced values\n",
    "print(p) #value 20 got excluded\n",
    "print('p has dimensions:', p.shape)\n",
    "print('p is an object of type:', type(p))\n",
    "print('The elements in p are of type:', p.dtype)"
   ]
  },
  {
   "cell_type": "code",
   "execution_count": 25,
   "metadata": {},
   "outputs": [
    {
     "name": "stdout",
     "output_type": "stream",
     "text": [
      "original array: [ 0  1  2  3  4  5  6  7  8  9 10 11 12 13 14 15 16 17 18 19]\n",
      "reshaped array\n",
      " [[ 0  1  2  3  4]\n",
      " [ 5  6  7  8  9]\n",
      " [10 11 12 13 14]\n",
      " [15 16 17 18 19]]\n",
      "q has dimensions: (4, 5)\n",
      "q is an object of type: <class 'numpy.ndarray'>\n",
      "The elements in q are of type: int32\n"
     ]
    }
   ],
   "source": [
    "# np.reshape(ndarray, new_shape) function converts the given ndarray into the specified new_shape. It is important \n",
    "#to note that the new_shape should be compatible with the number of elements in the given ndarray\n",
    "q = np.arange(20)\n",
    "print('original array:', q)\n",
    "q = np.reshape(q, (4,5))\n",
    "print('reshaped array\\n', q)\n",
    "print('q has dimensions:', q.shape)\n",
    "print('q is an object of type:', type(q))\n",
    "print('The elements in q are of type:', q.dtype)"
   ]
  },
  {
   "cell_type": "code",
   "execution_count": 26,
   "metadata": {},
   "outputs": [
    {
     "name": "stdout",
     "output_type": "stream",
     "text": [
      "[[ 0  1  2  3  4]\n",
      " [ 5  6  7  8  9]\n",
      " [10 11 12 13 14]\n",
      " [15 16 17 18 19]]\n"
     ]
    }
   ],
   "source": [
    "#One great feature about NumPy, is that some functions can also be applied as methods. This allows us to apply \n",
    "#different functions in sequence in just one line of code. ndarray methods are similar to ndarray attributes in \n",
    "#that they are both applied using dot notation (.).\n",
    "r = np.arange(20).reshape(4,5)\n",
    "print(r)"
   ]
  },
  {
   "cell_type": "code",
   "execution_count": 27,
   "metadata": {},
   "outputs": [
    {
     "name": "stdout",
     "output_type": "stream",
     "text": [
      "[[ 0.  5.]\n",
      " [10. 15.]\n",
      " [20. 25.]\n",
      " [30. 35.]\n",
      " [40. 45.]]\n",
      "s has dimensions: (5, 2)\n",
      "s is an object of type: <class 'numpy.ndarray'>\n",
      "The elements in s are of type: float64\n"
     ]
    }
   ],
   "source": [
    "#create a rank 1 ndarray with 10 integers evenly spaced between 0 and 50,\n",
    "# with 50 excluded. We then reshape it to a 5 x 2 ndarray\n",
    "s = np.linspace(0,50,10, endpoint = False).reshape(5,2)\n",
    "print(s)\n",
    "print('s has dimensions:', s.shape)\n",
    "print('s is an object of type:', type(s))\n",
    "print('The elements in s are of type:', s.dtype)"
   ]
  },
  {
   "cell_type": "code",
   "execution_count": 4,
   "metadata": {},
   "outputs": [
    {
     "name": "stdout",
     "output_type": "stream",
     "text": [
      "[[0.45499937 0.05176867 0.41523862]\n",
      " [0.72125371 0.58353108 0.06239369]\n",
      " [0.94589021 0.82939963 0.35165199]]\n",
      "t has dimensions: (3, 3)\n",
      "t is an object of type: <class 'numpy.ndarray'>\n",
      "The elements in t are of type: float64\n"
     ]
    }
   ],
   "source": [
    "#The last type of ndarrays we are going to create are random ndarrays. Random ndarrays are arrays that contain \n",
    "#random numbers. Often in Machine Learning, you need to create random matrices, for example, when initializing \n",
    "#the weights of a Neural Network. NumPy offers a variety of random functions to help us create random ndarrays \n",
    "#of any shape.\n",
    "t = np.random.random((3,3))#create a 3 x 3 ndarray with random floats in the half-open interval (0.0, 1.0)\n",
    "print(t)\n",
    "print('t has dimensions:', t.shape)\n",
    "print('t is an object of type:', type(t))\n",
    "print('The elements in t are of type:', t.dtype)"
   ]
  },
  {
   "cell_type": "code",
   "execution_count": 8,
   "metadata": {},
   "outputs": [
    {
     "name": "stdout",
     "output_type": "stream",
     "text": [
      "[[10  9]\n",
      " [ 4 11]\n",
      " [ 4  9]]\n",
      "u has dimensions: (3, 2)\n",
      "u is an object of type: <class 'numpy.ndarray'>\n",
      "The elements in u are of type: int32\n"
     ]
    }
   ],
   "source": [
    "#NumPy also allows us to create ndarrays with random integers within a particular interval. The function \n",
    "#np.random.randint(start, stop, size = shape)\n",
    "u = np.random.randint(4,15, size=(3,2)) #creates an ndarray of the given shape with random integers in the \n",
    "#half-open interval [start, stop)\n",
    "print(u)\n",
    "print('u has dimensions:', u.shape)\n",
    "print('u is an object of type:', type(u))\n",
    "print('The elements in u are of type:', u.dtype)"
   ]
  },
  {
   "cell_type": "code",
   "execution_count": 34,
   "metadata": {
    "scrolled": true
   },
   "outputs": [
    {
     "name": "stdout",
     "output_type": "stream",
     "text": [
      "[[ 0.02533328 -0.03672482 -0.04571919 ...  0.00180402 -0.07859781\n",
      "  -0.08048677]\n",
      " [ 0.0107391  -0.12547036  0.01708447 ... -0.02446352 -0.10781304\n",
      "   0.05492889]\n",
      " [-0.04081266  0.00048142 -0.09090761 ... -0.02184834  0.039774\n",
      "   0.07433315]\n",
      " ...\n",
      " [ 0.21220804  0.18047308 -0.09593706 ... -0.02033013  0.0429093\n",
      "  -0.11549667]\n",
      " [ 0.01271948 -0.09842016 -0.09449699 ... -0.08693998  0.03987904\n",
      "   0.19785871]\n",
      " [ 0.03741471  0.10490071  0.00703629 ... -0.02882438 -0.17069814\n",
      "   0.19266988]]\n",
      "v has dimensions: (1000, 1000)\n",
      "v is an object of type: <class 'numpy.ndarray'>\n",
      "The elements in v are of type: float64\n",
      "The elements in v have a mean of: 4.901937533554252e-05\n",
      "The maximum value in v is: 0.4880229750868906\n",
      "The minimum value in v is: -0.46599346705459094\n",
      "v has 499484 negative numbers\n",
      "v has 500516 positive numbers\n"
     ]
    }
   ],
   "source": [
    "#In some cases, you may need to create ndarrays with random numbers that satisfy certain statistical properties. \n",
    "#For example, you may want the random numbers in the ndarray to have an average of 0. NumPy allows you create \n",
    "#random ndarrays with numbers drawn from various probability distributions. The function \n",
    "#np.random.normal(mean, standard deviation, size=shape), for example, creates an ndarray with the given shape \n",
    "#that contains random numbers picked from a normal (Gaussian) distribution with the given mean and standard \n",
    "#deviation. Let's create a 1,000 x 1,000 ndarray of random floating point numbers drawn from a normal distribution \n",
    "#with a mean (average) of zero and a standard deviation of 0.1.\n",
    "v = np.random.normal(0, 0.1, size=(1000,1000))\n",
    "print(v)\n",
    "print('v has dimensions:', v.shape)\n",
    "print('v is an object of type:', type(v))\n",
    "print('The elements in v are of type:', v.dtype)\n",
    "print('The elements in v have a mean of:', v.mean())\n",
    "print('The maximum value in v is:', v.max())\n",
    "print('The minimum value in v is:', v.min())\n",
    "print('v has', (v < 0).sum(), 'negative numbers')\n",
    "print('v has', (v > 0).sum(), 'positive numbers')"
   ]
  },
  {
   "cell_type": "code",
   "execution_count": 40,
   "metadata": {},
   "outputs": [
    {
     "name": "stdout",
     "output_type": "stream",
     "text": [
      "w:\n",
      " [[ 2  4  6  8]\n",
      " [10 12 14 16]\n",
      " [18 20 22 24]\n",
      " [26 28 30 32]]\n",
      "x1:\n",
      " [[ 2  4  6  8]\n",
      " [10 12 14 16]\n",
      " [18 20 22 24]\n",
      " [26 28 30 32]]\n"
     ]
    }
   ],
   "source": [
    "#create a 4 x 4 ndarray that only contains consecutive even numbers from 2 to 32 (inclusive)\n",
    "w = np.arange(2,33,2).reshape(4,4)\n",
    "print('w:\\n',w)\n",
    "x1 = np.linspace(2,32,16,dtype=np.int32).reshape(4,4)\n",
    "print('x1:\\n',x1)\n"
   ]
  },
  {
   "cell_type": "code",
   "execution_count": 42,
   "metadata": {},
   "outputs": [
    {
     "name": "stdout",
     "output_type": "stream",
     "text": [
      "[1 2 3 4 5]\n",
      "first element : 1\n",
      "second element: 2\n",
      "fifth element : 5\n",
      "first element : 1\n",
      "second element: 2\n",
      "fifth element : 5\n"
     ]
    }
   ],
   "source": [
    "#Accessing, Deleting, and Inserting Elements Into ndarrays -numpy arrays are mutable\n",
    "a1 = np.array([1,2,3,4,5])\n",
    "print(a1)\n",
    "print('first element :', a1[0]) #using positive indices\n",
    "print('second element:', a1[1])\n",
    "print('fifth element :', a1[4])\n",
    "print('first element :', a1[-5]) #using negative indices\n",
    "print('second element:', a1[-4])\n",
    "print('fifth element :', a1[-1])"
   ]
  },
  {
   "cell_type": "code",
   "execution_count": 43,
   "metadata": {},
   "outputs": [
    {
     "name": "stdout",
     "output_type": "stream",
     "text": [
      "[ 1  2  3 24  5]\n"
     ]
    }
   ],
   "source": [
    "#modifying the data in array a1\n",
    "a1[3] = 24 #changing the element at index 3 or at fourth position which is 4 to 24\n",
    "print(a1)\n"
   ]
  },
  {
   "cell_type": "code",
   "execution_count": 46,
   "metadata": {},
   "outputs": [
    {
     "name": "stdout",
     "output_type": "stream",
     "text": [
      "[[1 2 3]\n",
      " [4 5 6]\n",
      " [7 8 9]]\n",
      "element at (0,0): 1\n",
      "element at (0,1): 2\n",
      "element at (2,2): 9\n",
      "[[22  2  3]\n",
      " [ 4  5  6]\n",
      " [ 7  8  9]]\n"
     ]
    }
   ],
   "source": [
    "#for rank2 arrays, we need to provide indices with comma\n",
    "b1 = np.arange(1,10).reshape(3,3)\n",
    "print(b1)\n",
    "print('element at (0,0):', b1[0,0])\n",
    "print('element at (0,1):', b1[0,1])\n",
    "print('element at (2,2):', b1[2,2])\n",
    "#modifying the data in rank2 array\n",
    "b1[0,0] = 22\n",
    "print(b1)"
   ]
  },
  {
   "cell_type": "code",
   "execution_count": 50,
   "metadata": {},
   "outputs": [
    {
     "name": "stdout",
     "output_type": "stream",
     "text": [
      "original: [1 2 3 4 5 6 7]\n",
      "deleted: [2 3 4 5 6]\n"
     ]
    }
   ],
   "source": [
    "#deleting elements from ndarrays\n",
    "c1 = np.array([1,2,3,4,5,6,7]) #rank1 array\n",
    "print('original:',c1)\n",
    "c1 = np.delete(c1, [0,6]) #delete the first and last elements from the array c1\n",
    "print('deleted:',c1)"
   ]
  },
  {
   "cell_type": "code",
   "execution_count": 54,
   "metadata": {},
   "outputs": [
    {
     "name": "stdout",
     "output_type": "stream",
     "text": [
      "original:\n",
      " [[1 2 3]\n",
      " [4 5 6]\n",
      " [7 8 9]]\n",
      "row deleted:\n",
      " [[4 5 6]\n",
      " [7 8 9]]\n",
      "columns deleted:\n",
      " [[2]\n",
      " [5]\n",
      " [8]]\n"
     ]
    }
   ],
   "source": [
    "d1 = np.arange(1,10).reshape(3,3)\n",
    "print('original:\\n', d1)\n",
    "\n",
    "e1 = np.delete(d1, 0, axis=0) #delete the first row , axis argument required for rank2 arrays\n",
    "print('row deleted:\\n',e1)\n",
    "\n",
    "f1 = np.delete(d1, [0,2], axis=1) #delete first and last columns of the array d1. axis=1 :coulmn, axis=0: row\n",
    "print('columns deleted:\\n',f1)"
   ]
  },
  {
   "cell_type": "code",
   "execution_count": 58,
   "metadata": {},
   "outputs": [
    {
     "name": "stdout",
     "output_type": "stream",
     "text": [
      "[1 2 3 4 5]\n",
      "[1 2 3 4 5 6]\n",
      "[ 1  2  3  4  5  6  7  8  9 10]\n"
     ]
    }
   ],
   "source": [
    "#we can add elements to the ndarray with append function similar to list. \n",
    "g1 = np.array([1,2,3,4,5])\n",
    "print(g1)\n",
    "g1 = np.append(g1,6) #adding one element\n",
    "print(g1)\n",
    "g1 = np.append(g1,[7,8,9,10]) #adding 4 elements\n",
    "print(g1)\n"
   ]
  },
  {
   "cell_type": "code",
   "execution_count": 82,
   "metadata": {},
   "outputs": [
    {
     "name": "stdout",
     "output_type": "stream",
     "text": [
      "[[1 2 3]\n",
      " [4 5 6]\n",
      " [7 8 9]]\n",
      "[[ 1  2  3]\n",
      " [ 4  5  6]\n",
      " [ 7  8  9]\n",
      " [10 11 12]]\n",
      "[[ 1  2  3 13]\n",
      " [ 4  5  6 14]\n",
      " [ 7  8  9 15]\n",
      " [10 11 12 16]]\n"
     ]
    }
   ],
   "source": [
    "h1 = np.arange(1,10).reshape(3,3)\n",
    "print(h1)\n",
    "i1 = np.append(h1, [[10,11,12]], axis=0) #adding one row of elements to 3X3 matrix\n",
    "print(i1)\n",
    "j1 = np.append(i1, [[13],[14],[15],[16]], axis=1) #adding a new column of elements to 4 X3 matrix\n",
    "print(j1)"
   ]
  },
  {
   "cell_type": "code",
   "execution_count": 69,
   "metadata": {},
   "outputs": [
    {
     "name": "stdout",
     "output_type": "stream",
     "text": [
      "[1 2 5 6 7]\n",
      "[1 2 3 4 5 6 7]\n"
     ]
    }
   ],
   "source": [
    "#insert  - using insert function and it takes index, elements and axis\n",
    "k1 = np.array([1,2,5,6,7]) #insert elements 3 and 4 between 2 and 5 using insert function\n",
    "print(k1)\n",
    "k1 = np.insert(k1,2,[3,4])\n",
    "print(k1)"
   ]
  },
  {
   "cell_type": "code",
   "execution_count": 75,
   "metadata": {},
   "outputs": [
    {
     "name": "stdout",
     "output_type": "stream",
     "text": [
      "[[1 2 3]\n",
      " [7 8 9]]\n",
      "[[1 2 3]\n",
      " [4 5 6]\n",
      " [7 8 9]]\n",
      "[[ 1  2  3 10]\n",
      " [ 4  5  6 11]\n",
      " [ 7  8  9 12]]\n"
     ]
    }
   ],
   "source": [
    "l1 = np.array([[1,2,3],[7,8,9]]) #rank2 array\n",
    "print(l1)\n",
    "l1 = np.insert(l1, 1, [4,5,6],axis=0)#insert at first row using axis=0\n",
    "print(l1)\n",
    "l1 = np.insert(l1, 3, [10,11,12],axis=1)\n",
    "print(l1)"
   ]
  },
  {
   "cell_type": "code",
   "execution_count": 79,
   "metadata": {
    "scrolled": true
   },
   "outputs": [
    {
     "name": "stdout",
     "output_type": "stream",
     "text": [
      "[1 2]\n",
      "[[3 4]\n",
      " [5 6]]\n",
      "[[1 2]\n",
      " [3 4]\n",
      " [5 6]]\n",
      "[[3 4 1]\n",
      " [5 6 2]]\n"
     ]
    }
   ],
   "source": [
    "#we can stack one array on top of another array or side by side stacking which are having the same shapes using \n",
    "#vstack for vertical stacking and hstack for horizontal stacking\n",
    "m1 = np.array([1,2])\n",
    "print(m1)\n",
    "n1 = np.array([[3,4],[5,6]])\n",
    "print(n1)\n",
    "o1 = np.vstack((m1,n1))\n",
    "print(o1)\n",
    "\n",
    "p1 = np.hstack((n1, m1.reshape(2,1)))\n",
    "print(p1)"
   ]
  },
  {
   "cell_type": "code",
   "execution_count": 83,
   "metadata": {},
   "outputs": [
    {
     "name": "stdout",
     "output_type": "stream",
     "text": [
      "q1\n",
      " [[ 1  2  3  4  5]\n",
      " [ 6  7  8  9 10]\n",
      " [11 12 13 14 15]\n",
      " [16 17 18 19 20]]\n",
      "r1\n",
      " [[ 8  9 10]\n",
      " [13 14 15]\n",
      " [18 19 20]]\n",
      "s1\n",
      " [[ 8  9 10]\n",
      " [13 14 15]\n",
      " [18 19 20]]\n",
      "t1\n",
      " [[ 3  4  5]\n",
      " [ 8  9 10]\n",
      " [13 14 15]]\n",
      "u1\n",
      " [ 3  8 13 18]\n",
      "v1\n",
      " [[ 3]\n",
      " [ 8]\n",
      " [13]\n",
      " [18]]\n"
     ]
    }
   ],
   "source": [
    "#slicing of ndarrays -access the subsets of NumPy arrays with slicing\n",
    "# 1. ndarray[start : end] starting index inclusive and ending index is exclusive\n",
    "# 2. ndarray[start : ] starting index to last element\n",
    "# 3. ndarray[ : end] from begining to last index -1 \n",
    "\n",
    "q1 = np.arange(1,21).reshape(4,5)\n",
    "print('q1\\n',q1)\n",
    "\n",
    "r1 = q1[1:4, 2:5] #rows indices, column indices\n",
    "print('r1\\n',r1)\n",
    "\n",
    "s1 = q1[1: , 2:]\n",
    "print('s1\\n',s1)\n",
    "\n",
    "t1 = q1[ :3, 2:]\n",
    "print('t1\\n',t1)\n",
    "\n",
    "u1 = q1[:, 2] #all rows values from 3rd columns which has index of 2\n",
    "print('u1\\n',u1)\n",
    "\n",
    "v1 = q1[:, 2:3] #converts into rank2 array\n",
    "print('v1\\n', v1)"
   ]
  },
  {
   "cell_type": "code",
   "execution_count": 84,
   "metadata": {},
   "outputs": [
    {
     "name": "stdout",
     "output_type": "stream",
     "text": [
      "[[ 1  2  3  4  5]\n",
      " [ 6  7  8  9 10]\n",
      " [11 12 13 14 15]\n",
      " [16 17 18 19 20]]\n",
      "[[ 8  9 10]\n",
      " [13 14 15]\n",
      " [18 19 20]]\n",
      "[[   8    9   10]\n",
      " [  13   14   15]\n",
      " [  18   19 1000]]\n",
      "[[   1    2    3    4    5]\n",
      " [   6    7    8    9   10]\n",
      " [  11   12   13   14   15]\n",
      " [  16   17   18   19 1000]]\n",
      "[[   8    9   10]\n",
      " [  13   14   15]\n",
      " [  18   19 1000]]\n",
      "[[ 8  9 10]\n",
      " [13 14 15]\n",
      " [18 19 20]]\n",
      "[[   1    2    3    4    5]\n",
      " [   6    7    8    9   10]\n",
      " [  11   12   13   14   15]\n",
      " [  16   17   18   19 1000]]\n"
     ]
    }
   ],
   "source": [
    "#sliciing doesn't copy the data from one array to other, it just a view of the same array with the specified\n",
    "#slicing. If you change anything in the sliced array that will effect the original array also. So, if we want to \n",
    "#copy the data from one array to other you need to use numpy's copy function\n",
    "print(q1)\n",
    "w1 = q1[1:,2:]\n",
    "print(w1)\n",
    "w1[2,2] = 1000\n",
    "print(w1) #value at 2,2 of w1 changed to 1000\n",
    "print(q1) #above change effects the original array\n",
    "\n",
    "x1 = q1[1:,2:].copy() #using this .copy() function creates a completely new numPy array that is independent of original\n",
    "print(x1)\n",
    "x1[2,2] = 20\n",
    "print(x1)\n",
    "print(q1)"
   ]
  },
  {
   "cell_type": "code",
   "execution_count": 85,
   "metadata": {},
   "outputs": [
    {
     "name": "stdout",
     "output_type": "stream",
     "text": [
      "[1 3]\n",
      "[[   1    2    3    4    5]\n",
      " [   6    7    8    9   10]\n",
      " [  11   12   13   14   15]\n",
      " [  16   17   18   19 1000]]\n",
      "[[   6    7    8    9   10]\n",
      " [  16   17   18   19 1000]]\n",
      "[[ 2  4]\n",
      " [ 7  9]\n",
      " [12 14]\n",
      " [17 19]]\n"
     ]
    }
   ],
   "source": [
    "indices = np.array([1,3])\n",
    "print(indices)\n",
    "print(q1)\n",
    "y1 = q1[indices, :]\n",
    "print(y1)\n",
    "\n",
    "z1 = q1[:, indices]\n",
    "print(z1)"
   ]
  },
  {
   "cell_type": "code",
   "execution_count": 22,
   "metadata": {},
   "outputs": [
    {
     "name": "stdout",
     "output_type": "stream",
     "text": [
      "[[   1    2    3    4    5]\n",
      " [   6    7    8    9   10]\n",
      " [  11   12   13   14   15]\n",
      " [  16   17   18   19 1000]]\n",
      "[ 1  7 13 19]\n",
      "[   2    8   14 1000]\n",
      "[ 6 12 18]\n"
     ]
    }
   ],
   "source": [
    "print(q1)\n",
    "a2 = np.diag(q1) #extracts the diagonal elements of an array q1 -here default value of k is 0\n",
    "print(a2)\n",
    "b2 = np.diag(q1, k=1) #gets the elements above the main diagonal elements\n",
    "print(b2)\n",
    "c2 = np.diag(q1, k=-1) #gets the elements below the main diagonal elements\n",
    "print(c2)"
   ]
  },
  {
   "cell_type": "code",
   "execution_count": 26,
   "metadata": {
    "scrolled": true
   },
   "outputs": [
    {
     "name": "stdout",
     "output_type": "stream",
     "text": [
      "[[1 2 3]\n",
      " [2 3 4]\n",
      " [3 4 5]]\n",
      "[1 2 3 4 5]\n"
     ]
    }
   ],
   "source": [
    "# using np.unique function, we can extract the unique elements in a numpy array\n",
    "d2 = np.array([[1,2,3],[2,3,4],[3,4,5]])\n",
    "print(d2)\n",
    "print(np.unique(d2))"
   ]
  },
  {
   "cell_type": "code",
   "execution_count": 37,
   "metadata": {},
   "outputs": [
    {
     "name": "stdout",
     "output_type": "stream",
     "text": [
      "[[ 0  1  2  3  4]\n",
      " [ 5  6  7  8  9]\n",
      " [10 11 12 13 14]\n",
      " [15 16 17 18 19]\n",
      " [20 21 22 23 24]]\n",
      "\n",
      " [11 12 13 14 15 16 17 18 19 20 21 22 23 24]\n",
      "\n",
      " [0 1 2 3 4 5 6 7]\n",
      "\n",
      " [11 12 13 14 15 16]\n",
      "\n",
      " [[ 0  1  2  3  4]\n",
      " [ 5  6  7  8  9]\n",
      " [10 -1 -1 -1 -1]\n",
      " [-1 -1 17 18 19]\n",
      " [20 21 22 23 24]]\n"
     ]
    }
   ],
   "source": [
    "#Boolean indexing, Set operations and sorting\n",
    "#suppose we have a 10,000 x 10,000 ndarray of random integers ranging from 1 to 15,000 and we only want to \n",
    "#select those integers that are less than 20. Boolean indexing can help us in these cases, by allowing us select \n",
    "#elements using logical arguments instead of explicit indices\n",
    "e2 = np.arange(25).reshape(5,5)\n",
    "print(e2)\n",
    "print('\\n',e2[e2>10]) # extract elements which are greater than 10 using boolen expression using as index\n",
    "print('\\n',e2[e2<=7]) #less than 7\n",
    "print('\\n',e2[(e2>10) & (e2<17)]) #greater than 10 and less than 17\n",
    "\n",
    "#set the elements with a value that satisfies the boolean expression\n",
    "e2[(e2>10) & (e2<17)] = -1\n",
    "print('\\n',e2)"
   ]
  },
  {
   "cell_type": "code",
   "execution_count": 38,
   "metadata": {},
   "outputs": [
    {
     "name": "stdout",
     "output_type": "stream",
     "text": [
      "intersection   : [2 4]\n",
      "set diifference: [1 3 5]\n",
      "union          : [1 2 3 4 5 6 7 8]\n"
     ]
    }
   ],
   "source": [
    "#set operations\n",
    "f2 = np.array([1,2,3,4,5])\n",
    "g2 = np.array([6,7,2,8,4])\n",
    "\n",
    "print('intersection   :',np.intersect1d(f2,g2)) #common elements\n",
    "print('set diifference:',np.setdiff1d(f2,g2))  #in first array but not in second array\n",
    "print('union          :',np.union1d(f2,g2))    #all elements in both of the arrays"
   ]
  },
  {
   "cell_type": "code",
   "execution_count": 50,
   "metadata": {},
   "outputs": [
    {
     "name": "stdout",
     "output_type": "stream",
     "text": [
      "[8 2 2 6 5 1 9 1 7 7]\n"
     ]
    }
   ],
   "source": [
    "#When sort is used as a function it sorts the numpy array out of place, meaning they don't change the original\n",
    "#array. However when you use sort as a method the array is sorted in place, meaning the original array is changed.\n",
    "h2 = np.random.randint(1,11,size=(10,))\n",
    "print(h2)"
   ]
  },
  {
   "cell_type": "code",
   "execution_count": 51,
   "metadata": {},
   "outputs": [
    {
     "name": "stdout",
     "output_type": "stream",
     "text": [
      "[1 1 2 2 5 6 7 7 8 9]\n",
      "[1 2 5 6 7 8 9]\n",
      "[8 2 2 6 5 1 9 1 7 7]\n",
      "[1 1 2 2 5 6 7 7 8 9]\n"
     ]
    }
   ],
   "source": [
    "print(np.sort(h2))  #h2 not changed\n",
    "print(np.sort(np.unique(h2))) #sort with unique elements in h2\n",
    "print(h2)\n",
    "h2.sort() #h2 got changed and sort applied in place\n",
    "print(h2)"
   ]
  },
  {
   "cell_type": "code",
   "execution_count": 52,
   "metadata": {},
   "outputs": [
    {
     "name": "stdout",
     "output_type": "stream",
     "text": [
      "[[ 9  5 10  3  8]\n",
      " [ 9  5  5  9  2]\n",
      " [ 3  9  5  4  2]\n",
      " [ 4  2  6  7  8]\n",
      " [ 8  6  3  6  5]]\n"
     ]
    }
   ],
   "source": [
    "i2 = np.random.randint(1,11,size=(5,5))\n",
    "print(i2)"
   ]
  },
  {
   "cell_type": "code",
   "execution_count": 53,
   "metadata": {},
   "outputs": [
    {
     "name": "stdout",
     "output_type": "stream",
     "text": [
      "[[ 3  2  3  3  2]\n",
      " [ 4  5  5  4  2]\n",
      " [ 8  5  5  6  5]\n",
      " [ 9  6  6  7  8]\n",
      " [ 9  9 10  9  8]]\n"
     ]
    }
   ],
   "source": [
    "print(np.sort(i2,axis=0)) #sort on rows"
   ]
  },
  {
   "cell_type": "code",
   "execution_count": 54,
   "metadata": {},
   "outputs": [
    {
     "name": "stdout",
     "output_type": "stream",
     "text": [
      "[[ 3  5  8  9 10]\n",
      " [ 2  5  5  9  9]\n",
      " [ 2  3  4  5  9]\n",
      " [ 2  4  6  7  8]\n",
      " [ 3  5  6  6  8]]\n"
     ]
    }
   ],
   "source": [
    "print(np.sort(i2,axis=1)) #sort on columns"
   ]
  },
  {
   "cell_type": "code",
   "execution_count": 87,
   "metadata": {},
   "outputs": [
    {
     "name": "stdout",
     "output_type": "stream",
     "text": [
      "[[ 1  2  3  4  5]\n",
      " [ 6  7  8  9 10]\n",
      " [11 12 13 14 15]\n",
      " [16 17 18 19 20]\n",
      " [21 22 23 24 25]]\n",
      "[ 1  3  5  7  9 11 13 15 17 19 21 23 25]\n"
     ]
    }
   ],
   "source": [
    "# Create a 5 x 5 ndarray with consecutive integers from 1 to 25 (inclusive).\n",
    "# Afterwards use Boolean indexing to pick out only the odd numbers in the array\n",
    "# Create a 5 x 5 ndarray with consecutive integers from 1 to 25 (inclusive).\n",
    "X = np.arange(1,26).reshape(5,5)\n",
    "print(X)\n",
    "# Use Boolean indexing to pick out only the odd numbers in the array\n",
    "Y = X[X%2==1]\n",
    "print(Y)"
   ]
  },
  {
   "cell_type": "code",
   "execution_count": 76,
   "metadata": {},
   "outputs": [
    {
     "name": "stdout",
     "output_type": "stream",
     "text": [
      "element wise sum [ 7  9 11 13 15]\n",
      "element wise sum [ 7  9 11 13 15]\n",
      "element wise subtraction [-5 -5 -5 -5 -5]\n",
      "element wise subtraction [-5 -5 -5 -5 -5]\n",
      "element wise multiplication [ 6 14 24 36 50]\n",
      "element wise multiplication [ 6 14 24 36 50]\n",
      "element wise division [0.16666667 0.28571429 0.375      0.44444444 0.5       ]\n",
      "element wise division [0.16666667 0.28571429 0.375      0.44444444 0.5       ]\n",
      "square root of each element [1.         1.41421356 1.73205081 2.         2.23606798]\n",
      "power of 2  [ 36  49  64  81 100]\n",
      "Exponential [  2.71828183   7.3890561   20.08553692  54.59815003 148.4131591 ]\n"
     ]
    }
   ],
   "source": [
    "#Arthimetic operations and Broadcasting\n",
    "#Element wise operations -the arrays must be in same shape or broadcastable to apply these arthimetic operations\n",
    "j2 = np.array([1,2,3,4,5])\n",
    "k2 = np.array([6,7,8,9,10])\n",
    "print('element wise sum',j2 + k2)\n",
    "print('element wise sum',np.add(j2,k2))\n",
    "print('element wise subtraction', j2 - k2)\n",
    "print('element wise subtraction',np.subtract(j2,k2))\n",
    "print('element wise multiplication',j2 * k2)\n",
    "print('element wise multiplication',np.multiply(j2, k2))\n",
    "print('element wise division', j2/k2)\n",
    "print('element wise division',np.divide(j2,k2))\n",
    "print('square root of each element', np.sqrt(j2)) #rank1 array\n",
    "print('power of 2 ', np.power(k2, 2))\n",
    "print('Exponential', np.exp(j2))"
   ]
  },
  {
   "cell_type": "code",
   "execution_count": 68,
   "metadata": {
    "scrolled": true
   },
   "outputs": [
    {
     "name": "stdout",
     "output_type": "stream",
     "text": [
      "[[1 2]\n",
      " [3 4]]\n",
      "[[5 6]\n",
      " [7 8]]\n",
      "sum\n",
      " [[ 6  8]\n",
      " [10 12]]\n",
      "Subtraction\n",
      " [[-4 -4]\n",
      " [-4 -4]]\n",
      "product\n",
      " [[ 5 12]\n",
      " [21 32]]\n",
      "Division\n",
      " [[0.2        0.33333333]\n",
      " [0.42857143 0.5       ]]\n",
      "Average of all elements in l2: 2.5\n",
      "Average of all columns [2. 3.]\n",
      "Average of all rows [1.5 3.5]\n",
      "Sum of all 10\n",
      "sum of all columns [4 6]\n",
      "sum of all rows [3 7]\n",
      "Standard deviation 1.118033988749895\n",
      "median 2.5\n",
      "Max value 4\n",
      "Min value 1\n"
     ]
    }
   ],
   "source": [
    "#rank2 arrays\n",
    "l2 = np.array([1,2,3,4]).reshape(2,2)\n",
    "print(l2)\n",
    "m2 = np.array([5,6,7,8]).reshape(2,2)\n",
    "print(m2)\n",
    "print('sum\\n',l2+m2)\n",
    "print('Subtraction\\n', l2-m2)\n",
    "print('product\\n',l2*m2)\n",
    "print('Division\\n',l2/m2)\n",
    "print('Average of all elements in l2:',l2.mean())\n",
    "print('Average of all columns', l2.mean(axis=0))\n",
    "print('Average of all rows', l2.mean(axis=1))\n",
    "print('Sum of all',l2.sum())\n",
    "print('sum of all columns',l2.sum(axis=0))\n",
    "print('sum of all rows',l2.sum(axis=1))\n",
    "print('Standard deviation',l2.std())\n",
    "print('median', np.median(l2))\n",
    "print('Max value',l2.max())\n",
    "print('Min value', l2.min())"
   ]
  },
  {
   "cell_type": "code",
   "execution_count": 70,
   "metadata": {},
   "outputs": [
    {
     "name": "stdout",
     "output_type": "stream",
     "text": [
      "[[1 2]\n",
      " [3 4]]\n",
      "Add all elements with 3 [[4 5]\n",
      " [6 7]]\n",
      "Subtract all elements with 3 [[-2 -1]\n",
      " [ 0  1]]\n",
      "Multiply all elements with 3 [[ 3  6]\n",
      " [ 9 12]]\n",
      "Divide all elements with 3 [[0.33333333 0.66666667]\n",
      " [1.         1.33333333]]\n"
     ]
    }
   ],
   "source": [
    "#Add,ssubtract, multiply and divide all elements in an array with constant value\n",
    "print(l2)\n",
    "print('Add all elements with 3',l2 + 3)\n",
    "print('Subtract all elements with 3',l2 - 3)\n",
    "print('Multiply all elements with 3',l2 * 3)\n",
    "print('Divide all elements with 3',l2/3)"
   ]
  },
  {
   "cell_type": "code",
   "execution_count": 75,
   "metadata": {},
   "outputs": [
    {
     "name": "stdout",
     "output_type": "stream",
     "text": [
      "[[0 1 2]\n",
      " [3 4 5]\n",
      " [6 7 8]]\n",
      "[0 1 2]\n",
      "[[ 0  2  4]\n",
      " [ 3  5  7]\n",
      " [ 6  8 10]]\n",
      "[[0]\n",
      " [1]\n",
      " [2]]\n",
      "[[ 0  1  2]\n",
      " [ 4  5  6]\n",
      " [ 8  9 10]]\n"
     ]
    }
   ],
   "source": [
    "#broadcasting - numpy do the broadcasting on smaller array to make it compatible with the larger array for \n",
    "#arthiemtic operations\n",
    "m2 = np.arange(9).reshape(3,3) #3 X 3 array\n",
    "print(m2)\n",
    " \n",
    "n2 = np.arange(3) #1 x 3 array\n",
    "print(n2)\n",
    "\n",
    "print(np.add(m2,n2)) #numpy broadcasts the smaller 1 X 3 array to 3 X 3 array . The smaller array can be expanded\n",
    "#to fit with the larger array\n",
    "\n",
    "o2 = np.arange(3).reshape(3,1)\n",
    "print(o2)\n",
    "print(m2 + o2)"
   ]
  },
  {
   "cell_type": "code",
   "execution_count": 88,
   "metadata": {},
   "outputs": [
    {
     "name": "stdout",
     "output_type": "stream",
     "text": [
      "[[1. 2. 3. 4.]\n",
      " [1. 2. 3. 4.]\n",
      " [1. 2. 3. 4.]\n",
      " [1. 2. 3. 4.]]\n",
      "[[1. 2. 3. 4.]\n",
      " [1. 2. 3. 4.]\n",
      " [1. 2. 3. 4.]\n",
      " [1. 2. 3. 4.]]\n"
     ]
    }
   ],
   "source": [
    "# Use Broadcasting to create a 4 x 4 ndarray that has its first\n",
    "# column full of 1s, its second column full of 2s, its third\n",
    "# column full of 3s, etc.. \n",
    "X = np.ones((4,4)) * np.arange(1,5)\n",
    "print(X)\n",
    "\n",
    "Y = np.zeros((4,4)) + np.arange(1,5)\n",
    "print(Y)"
   ]
  }
 ],
 "metadata": {
  "kernelspec": {
   "display_name": "Python 3",
   "language": "python",
   "name": "python3"
  },
  "language_info": {
   "codemirror_mode": {
    "name": "ipython",
    "version": 3
   },
   "file_extension": ".py",
   "mimetype": "text/x-python",
   "name": "python",
   "nbconvert_exporter": "python",
   "pygments_lexer": "ipython3",
   "version": "3.7.0"
  }
 },
 "nbformat": 4,
 "nbformat_minor": 2
}
