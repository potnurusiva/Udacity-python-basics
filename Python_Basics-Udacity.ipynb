{
 "cells": [
  {
   "cell_type": "code",
   "execution_count": 32,
   "metadata": {},
   "outputs": [
    {
     "name": "stdout",
     "output_type": "stream",
     "text": [
      "12 21.3\n",
      "<class 'int'>\n",
      "12.0\n",
      "21\n",
      "False\n",
      "I think you're an encycolpedia of salesperson\n",
      "I\n",
      "45\n",
      "05\n",
      "Potnuru Siva\n",
      "True\n",
      "4\n"
     ]
    }
   ],
   "source": [
    "#Building blocks of python Data types and operators\n",
    "#Data Types: Integers, Floats, Booleans, Strings, Lists, Tuples, Sets, Dictionaries\n",
    "#Operators: Arithmetic, Assignment, Comparison, Logical, Membership, Identity\n",
    "#Built-In Functions, Compound Data Structures, Type Conversion\n",
    "#Whitespace and Style Guidelines\n",
    "\n",
    "x,y=12,21.3\n",
    "print ( x ,y)\n",
    "print(type(x))\n",
    "print(float(x))\n",
    "print(int(y))\n",
    "print(x>y)\n",
    "salesman = \"I think you\\'re an encycolpedia of salesperson\"\n",
    "print(salesman)\n",
    "print(salesman[0])\n",
    "print(len(salesman))\n",
    "#print(len(3456))---error\n",
    "#Nice! The error message generated reads: TypeError: object of type 'int' has no len(), \n",
    "#which alludes to the fact that len only works on a \"sequence (such as a string, bytes, tuple, list, or range) \n",
    "#or a collection (such as a dictionary, set, or frozen set),\"\n",
    "print(\"0\" + str(5))\n",
    "print(\"potnuru siva\".title())#title() method apply on string objects and returns first character of each word as capitalized\n",
    "print(\"potnuru siva\".islower())#islower() checks for the lowercase letters in string\n",
    "print('one fish, two fish, red fish, blue fish'.count('fish')) #count() -counts the number of same words in the given string"
   ]
  },
  {
   "cell_type": "code",
   "execution_count": 1,
   "metadata": {},
   "outputs": [
    {
     "name": "stdout",
     "output_type": "stream",
     "text": [
      "Hello siva\n",
      "hello siva\n",
      "***Hello SIVA**\n",
      "6\n",
      "Mohammed has 27 balloons\n",
      "Azhar has 30 balloons\n",
      "The sum of 1 + 2 is 3\n",
      "Product of 4 and 5 is 20\n"
     ]
    }
   ],
   "source": [
    "#String methods\n",
    "my_String = \"Hello SIVA\"\n",
    "print(my_String.capitalize()) #only first letter of the first word in the string is capitalized\n",
    "print(my_String.casefold()) #changes the case upper to lower,casefold() method is an aggressive lower() method \n",
    "#which convert strings to casefolded strings for caseless matching. For example, German lowercase letter ß is \n",
    "#equivalent to ss. However, since ß is already lowercase, lower() method does nothing to it. But, casefold() \n",
    "#converts it to ss.\n",
    "print(my_String.center(15,'*')) #method returns a string which is padded with the specified character.\n",
    "#center(width,fillchar),evenly padded the character to the specified string\n",
    "print(my_String.find('S'))\n",
    "print(\"Mohammed has {} balloons\".format(27))\n",
    "a=30\n",
    "print(f'Azhar has {a} balloons')\n",
    "print(\"The sum of 1 + 2 is {0}\".format(1+2))\n",
    "print(f'Product of 4 and 5 is {4*5}')"
   ]
  },
  {
   "cell_type": "code",
   "execution_count": 87,
   "metadata": {},
   "outputs": [
    {
     "name": "stdout",
     "output_type": "stream",
     "text": [
      "4\n",
      "first element 1, second element 3.4,third element string 1,fourth element True\n",
      "True\n",
      "True\n",
      "string 1\n",
      "index slicing\n",
      "[3.4, 'string 1']\n",
      "[1, 3.4, 'string 1']\n",
      "[3.4, 'string 1', True]\n",
      "True False\n",
      "True False\n",
      "[1, 2, 3, 4, 5, 6, 7, 8, 7, 7, 7, 7]\n",
      "[1, 2, 3, 4, 5, 6, 7, 8, 9, 10, 11, 12]\n",
      "12\n",
      "12\n",
      "1\n",
      "[1, 2, 3, 4, 5, 6, 7, 8, 9, 10, 11, 12]\n",
      "[12, 11, 10, 9, 8, 7, 6, 5, 4, 3, 2, 1]\n"
     ]
    }
   ],
   "source": [
    "#Lists-Containers of data-list is a data structure in python that is a mutable ordered sequence of elements\n",
    "list_eg1 = [1, 3.4, 'string 1',True]\n",
    "print(len(list_eg1))\n",
    "print(f'first element {list_eg1[0]}, second element {list_eg1[1]},third element {list_eg1[2]},fourth element {list_eg1[3]}')\n",
    "print(list_eg1[len(list_eg1)-1])\n",
    "print(list_eg1[-1]) #last element in the list using negative index\n",
    "print(list_eg1[-2])\n",
    "print('index slicing')\n",
    "#index slicing- lower bound index in inclusive and upper bound index is exclusive\n",
    "print(list_eg1[1:3])\n",
    "print(list_eg1[:3])\n",
    "print(list_eg1[1:])\n",
    "greeting='Hello There'\n",
    "print('her' in greeting, 'her' not in greeting)\n",
    "print(3.4 in list_eg1, True not in list_eg1)\n",
    "#String object is immutable and lists are mutable\n",
    "list_eg2 = [1,2,3,4,5,6,7,8,7,7,7,7] #we can change the values in list using index but cannot in string(immutable)\n",
    "#both strings and lists are ordered as the position of an element in the object can be used to access the element \n",
    "print(list_eg2)\n",
    "list_eg2[8]=9\n",
    "list_eg2[9]=10\n",
    "list_eg2[10]=11\n",
    "list_eg2[11]=12\n",
    "print(list_eg2)\n",
    "print(len(list_eg2))#lenght of the list returns the number of elements in the list\n",
    "print(max(list_eg2))#returns the maximum value in the list\n",
    "print(min(list_eg2))#returns the minimum value in the list\n",
    "print(sorted(list_eg2)) #prints the list in sorted order-ascending\n",
    "print(sorted(list_eg2,reverse=True)) #descending order"
   ]
  },
  {
   "cell_type": "code",
   "execution_count": 98,
   "metadata": {},
   "outputs": [
    {
     "name": "stdout",
     "output_type": "stream",
     "text": [
      "one\n",
      "two\n",
      "three\n",
      "one-two-three\n",
      "['one', 'two', 'three', 'four']\n"
     ]
    }
   ],
   "source": [
    "#Join method-string method that takes a list of strings as an argument, and returns a string consisting of the \n",
    "#list elements joined by a separator string.\n",
    "list_eg3=\"\\n\".join([\"one\",\"two\",\"three\"])\n",
    "print(list_eg3)\n",
    "list_eg4=\"-\".join(['one','two','three'])\n",
    "print(list_eg4)\n",
    "list_eg5=['one','two','three']\n",
    "list_eg5.append('four')\n",
    "print(list_eg5)"
   ]
  },
  {
   "cell_type": "code",
   "execution_count": 101,
   "metadata": {},
   "outputs": [
    {
     "name": "stdout",
     "output_type": "stream",
     "text": [
      "Latitude: 13.4125\n",
      "Longitude: 103.866667\n",
      "The dimensions are 52 x 40 x 100\n"
     ]
    }
   ],
   "source": [
    "#Tuple-Containers of data-Tuple is a data structure in python that is a immutable ordered sequence of elements.\n",
    "#They are often used to store related piece of information\n",
    "location = (13.4125, 103.866667)\n",
    "print(\"Latitude:\", location[0])\n",
    "print(\"Longitude:\", location[1])\n",
    "\n",
    "dimensions = 52, 40, 100 #tuple The parentheses are optional when defining tuples, and programmers frequently \n",
    "#omit them if parentheses don't clarify the code\n",
    "length, width, height = dimensions\n",
    "print(\"The dimensions are {} x {} x {}\".format(length, width, height))"
   ]
  },
  {
   "cell_type": "code",
   "execution_count": 103,
   "metadata": {},
   "outputs": [
    {
     "name": "stdout",
     "output_type": "stream",
     "text": [
      "{1, 2, 3, 6}\n",
      "False\n",
      "{'orange', 'watermelon', 'grapefruit', 'apple', 'banana'}\n",
      "orange\n",
      "{'watermelon', 'grapefruit', 'apple', 'banana'}\n"
     ]
    }
   ],
   "source": [
    "#sets-A set is a data type for mutable unordered collections of unique elements. One application of a set is to \n",
    "#quickly remove duplicates from a list.\n",
    "numbers = [1, 2, 6, 3, 1, 1, 6]\n",
    "unique_nums = set(numbers)\n",
    "print(unique_nums)\n",
    "#Sets supports IN operator as same as lists do. And also add elements using .add method, for removing elements .pop\n",
    "#If you use .pop method a random element is removed as sets unlike lists , are unordered so there is no last element\n",
    "fruit = {\"apple\", \"banana\", \"orange\", \"grapefruit\"}  # define a set\n",
    "print(\"watermelon\" in fruit)  # check for element\n",
    "fruit.add(\"watermelon\")  # add an element\n",
    "print(fruit)\n",
    "print(fruit.pop())  # remove a random element\n",
    "print(fruit)\n",
    "\n",
    "a = [1, 2, 2, 3, 3, 3, 4, 4, 4, 4]#list -all elements\n",
    "b = set(a)#set - only unique elements\n",
    "print(len(a) - len(b)) "
   ]
  },
  {
   "cell_type": "code",
   "execution_count": 112,
   "metadata": {},
   "outputs": [
    {
     "name": "stdout",
     "output_type": "stream",
     "text": [
      "{'hydrogen': 1, 'helium': 2, 'carbon': 6}\n",
      "2\n",
      "{'hydrogen': 1, 'helium': 2, 'carbon': 6, 'lithium': 3}\n",
      "True\n",
      "None\n",
      "True\n",
      "False\n",
      "Mango not in the dictionary\n"
     ]
    }
   ],
   "source": [
    "#Dictionaries-stores pair of elements (key:value} - dictionary is a mutable data type that stores mappings of \n",
    "#unique keys to values. Here's a dictionary that stores elements and their atomic numbers.\n",
    "elements = {\"hydrogen\": 1, \"helium\": 2, \"carbon\": 6}\n",
    "print(elements)\n",
    "print(elements['helium'])\n",
    "elements['lithium'] = 3\n",
    "print(elements)\n",
    "print('carbon' in elements)#Carbon is in the dictionary, so True is printed.\n",
    "print(elements.get('dilithium')) #Dilithium isn’t in our dictionary so None is returned by get and then printed\n",
    "#If you expect lookups to sometimes fail, get might be a better tool than normal square bracket lookups because \n",
    "#errors can crash your program.\n",
    "n = elements.get(\"dilithium\")\n",
    "print(n is None) #evaluates if both sides have the same identity\n",
    "print(n is not None) #evaluates if both sides have the different identities\n",
    "m = elements.get('mango', 'Mango not in the dictionary')\n",
    "print(m)"
   ]
  },
  {
   "cell_type": "code",
   "execution_count": 119,
   "metadata": {},
   "outputs": [
    {
     "name": "stdout",
     "output_type": "stream",
     "text": [
      "{'hydrogen': {'number': 1, 'weight': 1.00794, 'symbol': 'H'}, 'helium': {'number': 2, 'weight': 4.002602, 'symbol': 'He'}}\n",
      "{'number': 2, 'weight': 4.002602, 'symbol': 'He'}\n",
      "4.002602\n",
      "Not in the elements dictionary\n",
      "{'hydrogen': {'number': 1, 'weight': 1.00794, 'symbol': 'H'}, 'helium': {'number': 2, 'weight': 4.002602, 'symbol': 'He'}, 'oxygen': {'number': 8, 'weight': 15.999, 'symbol': 'o'}}\n"
     ]
    }
   ],
   "source": [
    "#Compound data structures-We can include containers in other containers to create compound data structures\n",
    "elements = {\"hydrogen\": {\"number\": 1,\n",
    "                         \"weight\": 1.00794,\n",
    "                         \"symbol\": \"H\"},\n",
    "              \"helium\": {\"number\": 2,\n",
    "                         \"weight\": 4.002602,\n",
    "                         \"symbol\": \"He\"}}\n",
    "print(elements)\n",
    "print(elements['helium'])\n",
    "print(elements['helium']['weight'])\n",
    "print(elements.get('Oxygen', 'Not in the elements dictionary'))\n",
    "oxygen = {\"number\":8,\"weight\":15.999,\"symbol\":\"o\"}\n",
    "elements[\"oxygen\"] = oxygen\n",
    "print(elements)"
   ]
  },
  {
   "cell_type": "code",
   "execution_count": 121,
   "metadata": {},
   "outputs": [
    {
     "name": "stdout",
     "output_type": "stream",
     "text": [
      "unrecognized season\n"
     ]
    }
   ],
   "source": [
    "#conditional statements\n",
    "season = 'Holiday'\n",
    "if season == 'spring':\n",
    "    print('plant the garden!')\n",
    "elif season == 'summer':\n",
    "    print('water the garden!')\n",
    "elif season == 'fall':\n",
    "    print('harvest the garden!')\n",
    "elif season == 'winter':\n",
    "    print('stay indoors!')\n",
    "else:\n",
    "    print('unrecognized season')"
   ]
  },
  {
   "cell_type": "code",
   "execution_count": 123,
   "metadata": {},
   "outputs": [
    {
     "name": "stdout",
     "output_type": "stream",
     "text": [
      "no prize\n",
      "Oh dear, no prize this time.\n"
     ]
    }
   ],
   "source": [
    "points = 1234  # use this input to make your submission\n",
    "\n",
    "# write your if statement here\n",
    "if points <= 50 and points > 0:\n",
    "    result=\"wooden rabbit\"\n",
    "elif points <= 150 and points > 50:\n",
    "    result=\"no prize\"\n",
    "elif points <= 180 and points > 150:\n",
    "    result=\"wafer-thin mint\"\n",
    "elif points <= 200 and points > 180:\n",
    "    result=\"penguin\"\n",
    "else:\n",
    "    result=\"no prize\"\n",
    "\n",
    "print(result)\n",
    "\n",
    "if result == \"wooden rabbit\" or result ==\"wafer-thin mint\" or result ==\"penguin\":\n",
    "    print('Congratulations! You won a {}!'.format(result))\n",
    "elif result == 'no prize':\n",
    "    print(\"Oh dear, no prize this time.\")\n",
    "else:\n",
    "    print('you are not eligible for the gift this time')\n",
    "    "
   ]
  },
  {
   "cell_type": "code",
   "execution_count": 125,
   "metadata": {},
   "outputs": [
    {
     "name": "stdout",
     "output_type": "stream",
     "text": [
      "You have 3 errors to fix!\n"
     ]
    }
   ],
   "source": [
    "errors = 3\n",
    "if errors:\n",
    "    print(\"You have {} errors to fix!\".format(errors))\n",
    "else:\n",
    "    print(\"No errors to fix!\")\n",
    "#In this code, errors has the truth value True because it's a non-zero number, so the error message is printed.\n",
    "#This is a nice, succinct way of writing an if statement."
   ]
  },
  {
   "cell_type": "code",
   "execution_count": 133,
   "metadata": {},
   "outputs": [
    {
     "name": "stdout",
     "output_type": "stream",
     "text": [
      "new york city\n",
      "mountain view\n",
      "chicago\n",
      "los angeles\n",
      "Done!\n",
      "\n",
      " range function\n",
      "Hello!\n",
      "Hello!\n",
      "Hello!\n",
      "\n",
      " creating a new list\n",
      "['New York City', 'Mountain View', 'Chicago', 'Los Angeles']\n",
      "\n",
      " modifying the list with range and index\n",
      "['New York City', 'Mountain View', 'Chicago', 'Los Angeles']\n"
     ]
    }
   ],
   "source": [
    "#for loops: for loops are example of definite iterations meaning that the loop's body is run a \n",
    "#predefined number of times\n",
    "cities = ['new york city', 'mountain view', 'chicago', 'los angeles']\n",
    "for city in cities:\n",
    "    print(city)\n",
    "print(\"Done!\")\n",
    "\n",
    "print('\\n range function')\n",
    "for i in range(3):   #range(start=0, stop,step=1) ,..start=0 and step=1 have default values as mentioned\n",
    "    print(\"Hello!\")\n",
    "    \n",
    "print('\\n creating a new list')\n",
    "# Creating a new list\n",
    "cities = ['new york city', 'mountain view', 'chicago', 'los angeles']\n",
    "capitalized_cities = []\n",
    "\n",
    "for city in cities:\n",
    "    capitalized_cities.append(city.title())\n",
    "\n",
    "print(capitalized_cities)\n",
    "\n",
    "\n",
    "print('\\n modifying the list with range and index')\n",
    "cities = ['new york city', 'mountain view', 'chicago', 'los angeles']\n",
    "\n",
    "for index in range(len(cities)):\n",
    "    cities[index] = cities[index].title()\n",
    "    \n",
    "print(cities)"
   ]
  },
  {
   "cell_type": "code",
   "execution_count": 134,
   "metadata": {},
   "outputs": [
    {
     "name": "stdout",
     "output_type": "stream",
     "text": [
      "['joey_tribbiani', 'monica_geller', 'chandler_bing', 'phoebe_buffay']\n"
     ]
    }
   ],
   "source": [
    "names = [\"Joey Tribbiani\", \"Monica Geller\", \"Chandler Bing\", \"Phoebe Buffay\"]\n",
    "usernames = []\n",
    "\n",
    "# write your for loop here\n",
    "for i in names:\n",
    "    usernames.append((i.lower()).replace(' ','_'))  #make names as lower case and replace spaces with underscores\n",
    "\n",
    "\n",
    "print(usernames)"
   ]
  },
  {
   "cell_type": "code",
   "execution_count": 138,
   "metadata": {},
   "outputs": [
    {
     "name": "stdout",
     "output_type": "stream",
     "text": [
      "['joey_tribbiani', 'monica_geller', 'chandler_bing', 'phoebe_buffay']\n"
     ]
    }
   ],
   "source": [
    "usernames = [\"Joey Tribbiani\", \"Monica Geller\", \"Chandler Bing\", \"Phoebe Buffay\"]\n",
    "\n",
    "# write your for loop here\n",
    "\n",
    "for i in range(len(usernames)):\n",
    "    usernames[i] = usernames[i].lower().replace(' ', '_')\n",
    "    \n",
    "print(usernames)"
   ]
  },
  {
   "cell_type": "code",
   "execution_count": 136,
   "metadata": {},
   "outputs": [
    {
     "name": "stdout",
     "output_type": "stream",
     "text": [
      "this is xml tag\n",
      "this is xml tag\n",
      "2\n"
     ]
    }
   ],
   "source": [
    "tokens = ['<greeting>', 'Hello World!', '</greeting>']\n",
    "count = 0\n",
    "\n",
    "# write your for loop here\n",
    "for i in tokens:\n",
    "    if i[0] == '<' and i[-1] == '>':\n",
    "        count+=1\n",
    "        print('this is xml tag')\n",
    "\n",
    "print(count)"
   ]
  },
  {
   "cell_type": "code",
   "execution_count": 139,
   "metadata": {},
   "outputs": [
    {
     "name": "stdout",
     "output_type": "stream",
     "text": [
      "<ul>\n",
      "<li>first string</li>\n",
      "<li>second string</li>\n",
      "</ul>\n"
     ]
    }
   ],
   "source": [
    "items = ['first string', 'second string']\n",
    "html_str = \"<ul>\\n\"  # \"\\ n\" is the character that marks the end of the line, it does\n",
    "                     # the characters that are after it in html_str are on the next line\n",
    "\n",
    "# write your code here\n",
    "for i in items:\n",
    "    html_str += '<li>{}</li>\\n'.format(i)\n",
    "    \n",
    "html_str += '</ul>'\n",
    "\n",
    "print(html_str)"
   ]
  },
  {
   "cell_type": "code",
   "execution_count": 140,
   "metadata": {},
   "outputs": [
    {
     "name": "stdout",
     "output_type": "stream",
     "text": [
      "[]\n"
     ]
    }
   ],
   "source": [
    "print(list(range(0,-5)))  #tricky one, creates an empty list"
   ]
  },
  {
   "cell_type": "code",
   "execution_count": 145,
   "metadata": {},
   "outputs": [
    {
     "name": "stdout",
     "output_type": "stream",
     "text": [
      "Jerry Seinfeld\n",
      "Julia Louis-Dreyfus\n",
      "Jason Alexander\n",
      "Michael Richards\n",
      "\n",
      "prints key value pair:\n",
      "Actor: Jerry Seinfeld, Role:Jerry Seinfeld\n",
      "Actor: Julia Louis-Dreyfus, Role:Elaine Benes\n",
      "Actor: Jason Alexander, Role:George Costanza\n",
      "Actor: Michael Richards, Role:Cosmo Kramer\n"
     ]
    }
   ],
   "source": [
    "#for loops in dictionaries\n",
    "cast = {\n",
    "           \"Jerry Seinfeld\": \"Jerry Seinfeld\",\n",
    "           \"Julia Louis-Dreyfus\": \"Elaine Benes\",\n",
    "           \"Jason Alexander\": \"George Costanza\",\n",
    "           \"Michael Richards\": \"Cosmo Kramer\"\n",
    "       }\n",
    "for i in cast:  #this prints only keys from dictionaries\n",
    "    print(i)\n",
    "\n",
    "print('\\nprints key value pair:')\n",
    "for k,v in cast.items():\n",
    "    print(f'Actor: {k}, Role:{v}')"
   ]
  },
  {
   "cell_type": "code",
   "execution_count": 149,
   "metadata": {},
   "outputs": [
    {
     "name": "stdout",
     "output_type": "stream",
     "text": [
      "[10, 8]\n"
     ]
    }
   ],
   "source": [
    "#while loops - example of indefinite iteration which is when a loop iterates an unknown number of times and ends when\n",
    "#some condition is met\n",
    "card_deck = [4, 11, 8, 5, 13, 2, 8, 10]\n",
    "hand = []\n",
    "\n",
    "# adds the last element of the card_deck list to the hand list\n",
    "# until the values in hand add up to 17 or more\n",
    "while sum(hand)  < 17:   #sum() function returns the sum of the elements in a list\n",
    "    hand.append(card_deck.pop()) #pop() is a list method that removes the last element from a list and returns it.\n",
    "print(hand)"
   ]
  },
  {
   "cell_type": "code",
   "execution_count": 150,
   "metadata": {},
   "outputs": [
    {
     "name": "stdout",
     "output_type": "stream",
     "text": [
      "720\n"
     ]
    }
   ],
   "source": [
    "# number to find the factorial of\n",
    "number = 6   \n",
    "# start with our product equal to one\n",
    "product = 1\n",
    "# track the current number being multiplied\n",
    "current = 1\n",
    "\n",
    "# write your while loop here\n",
    "while current <= number:\n",
    "    # multiply the product so far by the current number\n",
    "    product *= current\n",
    "    # increment current with each iteration until it reaches number\n",
    "    current +=1 \n",
    "    \n",
    "# print the factorial of number\n",
    "print(product)"
   ]
  },
  {
   "cell_type": "code",
   "execution_count": 154,
   "metadata": {},
   "outputs": [
    {
     "name": "stdout",
     "output_type": "stream",
     "text": [
      "36\n"
     ]
    }
   ],
   "source": [
    "limit = 40 #prints the nearest square value to the limit\n",
    "\n",
    "num = 0\n",
    "while (num+1)**2 < limit:\n",
    "    num += 1\n",
    "    \n",
    "nearest_square = num**2\n",
    "\n",
    "print(nearest_square)"
   ]
  },
  {
   "cell_type": "code",
   "execution_count": 155,
   "metadata": {},
   "outputs": [
    {
     "name": "stdout",
     "output_type": "stream",
     "text": [
      "\n",
      "METHOD 2\n",
      "current weight: 0\n",
      "  adding bananas (15)\n",
      "current weight: 15\n",
      "  adding mattresses (24)\n",
      "current weight: 39\n",
      "  adding dog kennels (42)\n",
      "current weight: 81\n",
      "  skipping machine (120)\n",
      "current weight: 81\n",
      "  adding cheeses (5)\n",
      "\n",
      "Final Weight: 86\n",
      "Final Items: ['bananas', 'mattresses', 'dog kennels', 'cheeses']\n"
     ]
    }
   ],
   "source": [
    "# break terminates a for or while loop\n",
    "# continue skips one iteration of a for or while loop\n",
    "manifest = [(\"bananas\", 15), (\"mattresses\", 24), (\"dog kennels\", 42), (\"machine\", 120), (\"cheeses\", 5)]\n",
    "print(\"\\nMETHOD 2\")\n",
    "weight = 0\n",
    "items = []\n",
    "for cargo_name, cargo_weight in manifest:\n",
    "    print(\"current weight: {}\".format(weight))\n",
    "    if weight >= 100:\n",
    "        print(\"  breaking from the loop now!\")\n",
    "        break\n",
    "    elif weight + cargo_weight > 100:\n",
    "        print(\"  skipping {} ({})\".format(cargo_name, cargo_weight))\n",
    "        continue\n",
    "    else:\n",
    "        print(\"  adding {} ({})\".format(cargo_name, cargo_weight))\n",
    "        items.append(cargo_name)\n",
    "        weight += cargo_weight\n",
    "\n",
    "print(\"\\nFinal Weight: {}\".format(weight))\n",
    "print(\"Final Items: {}\".format(items))"
   ]
  },
  {
   "cell_type": "code",
   "execution_count": 156,
   "metadata": {},
   "outputs": [
    {
     "name": "stdout",
     "output_type": "stream",
     "text": [
      "Local Bear Eaten by Man Legislature Announces New Laws Peasant Discovers Violence Inherent in System Cat Rescues Fireman Stuck in Tree Brave\n"
     ]
    }
   ],
   "source": [
    "# HINT: modify the headlines list to verify your loop works with different inputs\n",
    "headlines = [\"Local Bear Eaten by Man\",\n",
    "             \"Legislature Announces New Laws\",\n",
    "             \"Peasant Discovers Violence Inherent in System\",\n",
    "             \"Cat Rescues Fireman Stuck in Tree\",\n",
    "             \"Brave Knight Runs Away\",\n",
    "             \"Papperbok Review: Totally Triffic\"]\n",
    "\n",
    "news_ticker = \"\"\n",
    "# write your loop here\n",
    "for i in headlines:\n",
    "    news_ticker += i + \" \"\n",
    "    if len(news_ticker) >= 140:\n",
    "        news_ticker = news_ticker[:140]\n",
    "        break\n",
    "\n",
    "print(news_ticker)"
   ]
  },
  {
   "cell_type": "code",
   "execution_count": 4,
   "metadata": {},
   "outputs": [
    {
     "name": "stdout",
     "output_type": "stream",
     "text": [
      "a: 1\n",
      "b: 2\n",
      "c: 3\n",
      "[('a', 1), ('b', 2), ('c', 3)]\n",
      "['a', 'b', 'c']\n",
      "(1, 2, 3)\n",
      "\n",
      "Enumerate\n",
      "0 a\n",
      "1 b\n",
      "2 c\n",
      "3 d\n",
      "4 e\n"
     ]
    }
   ],
   "source": [
    "#zip returns an iterator that combines multiple iterables into one sequence of tuples. Each tuple contains the \n",
    "#elements in that position from all the iterables. For example, printing\n",
    "\n",
    "#list(zip(['a', 'b', 'c'], [1, 2, 3])) would output [('a', 1), ('b', 2), ('c', 3)].\n",
    "letters = ['a', 'b', 'c']\n",
    "nums = [1, 2, 3]\n",
    "\n",
    "for letter, num in zip(letters, nums):\n",
    "    print(\"{}: {}\".format(letter, num))\n",
    "    \n",
    "print(list(zip(letters,nums)))\n",
    "\n",
    "#In addition to zipping two lists together, you can also unzip a list into tuples using an asterisk.\n",
    "some_list = [('a', 1), ('b', 2), ('c', 3)]\n",
    "letters, nums = zip(*some_list)\n",
    "print(list(letters))\n",
    "print(nums)\n",
    "print('\\nEnumerate')\n",
    "#enumerate is a built in function that returns an iterator of tuples containing indices and values of a list. \n",
    "#You'll often use this when you want the index along with each element of an iterable in a loop.\n",
    "letters = ['a', 'b', 'c', 'd', 'e']\n",
    "for i, letter in enumerate(letters):\n",
    "    print(i, letter)"
   ]
  },
  {
   "cell_type": "code",
   "execution_count": 6,
   "metadata": {},
   "outputs": [
    {
     "name": "stdout",
     "output_type": "stream",
     "text": [
      "F: 23, 677, 4\n",
      "J: 53, 233, 16\n",
      "A: 2, 405, -6\n",
      "Q: -12, 433, -42\n",
      "Y: 95, 905, 3\n",
      "B: 103, 376, -6\n",
      "W: 14, 432, 23\n",
      "X: -5, 445, -1\n"
     ]
    }
   ],
   "source": [
    "x_coord = [23, 53, 2, -12, 95, 103, 14, -5]\n",
    "y_coord = [677, 233, 405, 433, 905, 376, 432, 445]\n",
    "z_coord = [4, 16, -6, -42, 3, -6, 23, -1]\n",
    "labels = [\"F\", \"J\", \"A\", \"Q\", \"Y\", \"B\", \"W\", \"X\"]\n",
    "\n",
    "points = []\n",
    "for point in zip(labels, x_coord, y_coord, z_coord):\n",
    "    points.append(\"{}: {}, {}, {}\".format(*point))\n",
    "\n",
    "for point in points:\n",
    "    print(point)"
   ]
  },
  {
   "cell_type": "code",
   "execution_count": 170,
   "metadata": {},
   "outputs": [
    {
     "name": "stdout",
     "output_type": "stream",
     "text": [
      "{'Barney': 72, 'Robin': 68, 'Ted': 72, 'Lily': 66, 'Marshall': 76}\n"
     ]
    }
   ],
   "source": [
    "cast_names = [\"Barney\", \"Robin\", \"Ted\", \"Lily\", \"Marshall\"]\n",
    "cast_heights = [72, 68, 72, 66, 76]\n",
    "\n",
    "cast = dict(zip(cast_names,cast_heights))\n",
    "print(cast)"
   ]
  },
  {
   "cell_type": "code",
   "execution_count": 171,
   "metadata": {},
   "outputs": [
    {
     "name": "stdout",
     "output_type": "stream",
     "text": [
      "('Barney', 'Robin', 'Ted', 'Lily', 'Marshall')\n",
      "(72, 68, 72, 66, 76)\n"
     ]
    }
   ],
   "source": [
    "cast = ((\"Barney\", 72), (\"Robin\", 68), (\"Ted\", 72), (\"Lily\", 66), (\"Marshall\", 76))\n",
    "\n",
    "# define names and heights here\n",
    "names, heights = zip(*cast)\n",
    "\n",
    "print(names)\n",
    "print(heights)"
   ]
  },
  {
   "cell_type": "code",
   "execution_count": 174,
   "metadata": {},
   "outputs": [
    {
     "name": "stdout",
     "output_type": "stream",
     "text": [
      "((0, 3, 6, 9), (1, 4, 7, 10), (2, 5, 8, 11))\n"
     ]
    }
   ],
   "source": [
    "data = ((0, 1, 2), (3, 4, 5), (6, 7, 8), (9, 10, 11)) #data transpose 4x3 matrix to 3x4\n",
    "\n",
    "data_transpose = tuple(zip(*data))\n",
    "print(data_transpose)"
   ]
  },
  {
   "cell_type": "code",
   "execution_count": 8,
   "metadata": {},
   "outputs": [
    {
     "name": "stdout",
     "output_type": "stream",
     "text": [
      "['Barney Stinson 72', 'Robin Scherbatsky 68', 'Ted Mosby 72', 'Lily Aldrin 66', 'Marshall Eriksen 76']\n",
      "[('Barney Stinson 72', 72), ('Robin Scherbatsky 68', 68), ('Ted Mosby 72', 72), ('Lily Aldrin 66', 66), ('Marshall Eriksen 76', 76)]\n"
     ]
    }
   ],
   "source": [
    "cast = [\"Barney Stinson\", \"Robin Scherbatsky\", \"Ted Mosby\", \"Lily Aldrin\", \"Marshall Eriksen\"]\n",
    "heights = [72, 68, 72, 66, 76]\n",
    "\n",
    "for i, character in enumerate(cast):\n",
    "    cast[i] = character + \" \" + str(heights[i])\n",
    "\n",
    "print(cast)\n",
    "\n",
    "actor=list(zip(cast,heights))\n",
    "print(actor)"
   ]
  },
  {
   "cell_type": "code",
   "execution_count": 184,
   "metadata": {},
   "outputs": [
    {
     "name": "stdout",
     "output_type": "stream",
     "text": [
      "['New York City', 'Mountain View', 'Chicago', 'Los Angeles']\n",
      "['new york city', 'mountain view', 'chicago', 'los angeles']\n",
      "[0, 4, 16, 36, 64]\n",
      "[0, 4, 8, 6, 64, 8, 216, 10, 512]\n"
     ]
    }
   ],
   "source": [
    "#List comprehension - In Python, you can create lists really quickly and concisely with list comprehensions\n",
    "capitalized_cities = []\n",
    "for city in cities:\n",
    "    capitalized_cities.append(city.title())\n",
    "print(capitalized_cities)\n",
    "\n",
    "capitalized_cities = [x.lower() for x in cities]  #list comprehension\n",
    "print(capitalized_cities)\n",
    "\n",
    "#Adding conditional statements to the list comprehension\n",
    "squares = [x**2 for x in range(9) if x%2==0] #if we want to add else then we need to add after the expression not after\n",
    "#for loop\n",
    "print(squares)\n",
    "#cubes = [x**3 if x%2==0 for x in range(9) ]  --syntax error\n",
    "#cubes = [x**3  for x in range(9) if x%2==0 else x+3] --syntax error\n",
    "cubes = [y**3 if y%2==0 else y+3 for y in range(9) ] \n",
    "print(cubes)"
   ]
  },
  {
   "cell_type": "code",
   "execution_count": 190,
   "metadata": {},
   "outputs": [
    {
     "name": "stdout",
     "output_type": "stream",
     "text": [
      "[['R', 'ck Sanchez'], ['Morty Sm', 'th'], ['Summer Sm', 'th'], ['Jerry Sm', 'th'], ['Beth Sm', 'th']]\n",
      "['rick', 'morty', 'summer', 'jerry', 'beth']\n"
     ]
    }
   ],
   "source": [
    "names = [\"Rick Sanchez\", \"Morty Smith\", \"Summer Smith\", \"Jerry Smith\", \"Beth Smith\"]  #name split\n",
    "names1 = [name.split('i') for name in names] #split - splits the word into pieces\n",
    "print(names1)\n",
    "first_names = [name.split()[0].lower() for name in names]\n",
    "print(first_names)"
   ]
  },
  {
   "cell_type": "code",
   "execution_count": 191,
   "metadata": {},
   "outputs": [
    {
     "name": "stdout",
     "output_type": "stream",
     "text": [
      "['Rick Sanchez', 'Summer Smith', 'Beth Smith']\n"
     ]
    }
   ],
   "source": [
    "#include names who scores atleast 65\n",
    "scores = {\n",
    "             \"Rick Sanchez\": 70,\n",
    "             \"Morty Smith\": 35,\n",
    "             \"Summer Smith\": 82,\n",
    "             \"Jerry Smith\": 23,\n",
    "             \"Beth Smith\": 98\n",
    "          }\n",
    "\n",
    "passed = [name for name, score in scores.items() if score >= 65]\n",
    "print(passed)"
   ]
  },
  {
   "cell_type": "code",
   "execution_count": 195,
   "metadata": {},
   "outputs": [
    {
     "name": "stdout",
     "output_type": "stream",
     "text": [
      "56.52\n"
     ]
    }
   ],
   "source": [
    "#functions -def keyword, function name, arguments or parameters(input)\n",
    "def cylinder_volume(height, radius):\n",
    "    pi = 3.14    #scope limited to this function only\n",
    "    volume = pi * radius**2 * height\n",
    "    return volume #print statement produces the o/p on the console where as return o/p we can save and use it in pgms\n",
    "\n",
    "print(cylinder_volume(2,3))"
   ]
  },
  {
   "cell_type": "code",
   "execution_count": 196,
   "metadata": {},
   "outputs": [
    {
     "name": "stdout",
     "output_type": "stream",
     "text": [
      "Calling show_plus_ten...\n",
      "15\n",
      "Done calling\n",
      "This function returned: None\n",
      "\n",
      "Calling add_ten...\n",
      "Done calling\n",
      "This function returned: 15\n"
     ]
    }
   ],
   "source": [
    "#difference between print and return functions\n",
    "# this prints something, but does not return anything\n",
    "def show_plus_ten(num):\n",
    "    print(num + 10)\n",
    "\n",
    "# this returns something\n",
    "def add_ten(num):\n",
    "    return(num + 10)\n",
    "\n",
    "print('Calling show_plus_ten...')\n",
    "return_value_1 = show_plus_ten(5)\n",
    "print('Done calling')\n",
    "print('This function returned: {}'.format(return_value_1))\n",
    "\n",
    "print('\\nCalling add_ten...')\n",
    "return_value_2 = add_ten(5)\n",
    "print('Done calling')\n",
    "print('This function returned: {}'.format(return_value_2))"
   ]
  },
  {
   "cell_type": "code",
   "execution_count": 200,
   "metadata": {},
   "outputs": [
    {
     "name": "stdout",
     "output_type": "stream",
     "text": [
      "785.3975\n",
      "785.3975\n",
      "1539.3791\n",
      "1539.3791\n"
     ]
    }
   ],
   "source": [
    "#default argument values\n",
    "def cylinder_volume(height, radius=5):   #seting radius =5 \n",
    "    pi = 3.14159\n",
    "    return height * pi * radius ** 2\n",
    "print(cylinder_volume(10,5)) #radius equal to default value,,function call by position\n",
    "print(cylinder_volume(10))#no radiua value specified -so default value it takes\n",
    "print(cylinder_volume(10,7)) #radius is mentioned\n",
    "print(cylinder_volume(radius=7,height=10))#function call by name"
   ]
  },
  {
   "cell_type": "code",
   "execution_count": 201,
   "metadata": {},
   "outputs": [
    {
     "name": "stdout",
     "output_type": "stream",
     "text": [
      "expected result: 10, actual result: 10.0\n",
      "expected result: 7123.6902801, actual result: 7123.690280065897\n"
     ]
    }
   ],
   "source": [
    "# write your function here\n",
    "def population_density(population,land_area):\n",
    "    return population/land_area\n",
    "\n",
    "# test cases for your function\n",
    "test1 = population_density(10, 1)\n",
    "expected_result1 = 10\n",
    "print(\"expected result: {}, actual result: {}\".format(expected_result1, test1))\n",
    "\n",
    "test2 = population_density(864816, 121.4)\n",
    "expected_result2 = 7123.6902801\n",
    "print(\"expected result: {}, actual result: {}\".format(expected_result2, test2))"
   ]
  },
  {
   "cell_type": "code",
   "execution_count": 204,
   "metadata": {},
   "outputs": [
    {
     "name": "stdout",
     "output_type": "stream",
     "text": [
      "1 week(s) and 1 day(s)\n"
     ]
    }
   ],
   "source": [
    "# write your function here\n",
    "def readable_timedelta(days):\n",
    "    weeks = days//7\n",
    "    days1 =days%7\n",
    "    return f\"{weeks} week(s) and {days1} day(s)\"\n",
    "\n",
    "# test your function\n",
    "print(readable_timedelta(8))"
   ]
  },
  {
   "cell_type": "code",
   "execution_count": 214,
   "metadata": {},
   "outputs": [
    {
     "ename": "UnboundLocalError",
     "evalue": "local variable 'egg_count' referenced before assignment",
     "output_type": "error",
     "traceback": [
      "\u001b[1;31m---------------------------------------------------------------------------\u001b[0m",
      "\u001b[1;31mUnboundLocalError\u001b[0m                         Traceback (most recent call last)",
      "\u001b[1;32m<ipython-input-214-1c805cf4ebb3>\u001b[0m in \u001b[0;36m<module>\u001b[1;34m()\u001b[0m\n\u001b[0;32m      7\u001b[0m \u001b[1;31m#referred to is the global variable\u001b[0m\u001b[1;33m\u001b[0m\u001b[1;33m\u001b[0m\u001b[0m\n\u001b[0;32m      8\u001b[0m \u001b[1;33m\u001b[0m\u001b[0m\n\u001b[1;32m----> 9\u001b[1;33m \u001b[0mbuy_eggs\u001b[0m\u001b[1;33m(\u001b[0m\u001b[1;33m)\u001b[0m\u001b[1;33m\u001b[0m\u001b[0m\n\u001b[0m",
      "\u001b[1;32m<ipython-input-214-1c805cf4ebb3>\u001b[0m in \u001b[0;36mbuy_eggs\u001b[1;34m()\u001b[0m\n\u001b[0;32m      2\u001b[0m \u001b[1;33m\u001b[0m\u001b[0m\n\u001b[0;32m      3\u001b[0m \u001b[1;32mdef\u001b[0m \u001b[0mbuy_eggs\u001b[0m\u001b[1;33m(\u001b[0m\u001b[1;33m)\u001b[0m\u001b[1;33m:\u001b[0m\u001b[1;33m\u001b[0m\u001b[0m\n\u001b[1;32m----> 4\u001b[1;33m     \u001b[0megg_count\u001b[0m \u001b[1;33m+=\u001b[0m \u001b[1;36m12\u001b[0m \u001b[1;31m# purchase a dozen eggs\u001b[0m\u001b[1;33m\u001b[0m\u001b[0m\n\u001b[0m\u001b[0;32m      5\u001b[0m \u001b[1;31m#This code causes an UnboundLocalError, because the variable egg_count in the first line has global scope.\u001b[0m\u001b[1;33m\u001b[0m\u001b[1;33m\u001b[0m\u001b[0m\n\u001b[0;32m      6\u001b[0m \u001b[1;31m#Note that it is not passed as an argument into the function, so the  function assumes the egg_count being\u001b[0m\u001b[1;33m\u001b[0m\u001b[1;33m\u001b[0m\u001b[0m\n",
      "\u001b[1;31mUnboundLocalError\u001b[0m: local variable 'egg_count' referenced before assignment"
     ]
    }
   ],
   "source": [
    "egg_count = 0\n",
    "\n",
    "def buy_eggs():\n",
    "    egg_count += 12 # purchase a dozen eggs \n",
    "#This code causes an UnboundLocalError, because the variable egg_count in the first line has global scope. \n",
    "#Note that it is not passed as an argument into the function, so the  function assumes the egg_count being \n",
    "#referred to is the global variable\n",
    "#Python doesn't allow functions to modify variables that aren't in the function's scope.\n",
    "\n",
    "buy_eggs()"
   ]
  },
  {
   "cell_type": "code",
   "execution_count": 215,
   "metadata": {},
   "outputs": [],
   "source": [
    "#DOCSTRING: Documentation is used to make your code easier to understand and use. Functions are especially readable \n",
    "#because they often use documentation strings, or docstrings. Docstrings are a type of comment used to explain the \n",
    "#purpose of a function, and how it should be used. Here's a function for population density with a docstring.\n",
    "def population_density(population, land_area):\n",
    "    \"\"\"Calculate the population density of an area. \"\"\"   #--this is single line DOCSTRING\n",
    "     \"\"\"Calculate the population density of an area.\n",
    "\n",
    "    INPUT:\n",
    "    population: int. The population of that area\n",
    "    land_area: int or float. This function is unit-agnostic, if you pass in values in terms\n",
    "    of square km or square miles the function will return a density in those units.\n",
    "\n",
    "    OUTPUT: \n",
    "    population_density: population / land_area. The population density of a particular area.\n",
    "    \"\"\"\n",
    "    return population / land_area"
   ]
  },
  {
   "cell_type": "code",
   "execution_count": 219,
   "metadata": {},
   "outputs": [
    {
     "name": "stdout",
     "output_type": "stream",
     "text": [
      "8\n"
     ]
    }
   ],
   "source": [
    "#LAMBDA expression:You can use lambda expressions to create anonymous functions. That is, functions that don’t have\n",
    "#a name. They are helpful for creating quick functions that aren’t needed later in your code. This can be especially \n",
    "#useful for higher order functions, or functions that take in other functions as arguments.\n",
    "\n",
    "def multiply(x, y):\n",
    "    return x * y \n",
    "#can be reduced to\n",
    "multiply = lambda x, y: x * y\n",
    "#both of the above functions we can call by\n",
    "result=multiply(2,4)\n",
    "print(result)"
   ]
  },
  {
   "cell_type": "code",
   "execution_count": 220,
   "metadata": {},
   "outputs": [
    {
     "name": "stdout",
     "output_type": "stream",
     "text": [
      "[57.0, 58.2, 50.6, 27.2]\n"
     ]
    }
   ],
   "source": [
    "#map() is a higher-order built-in function that takes a function and iterable as inputs, and returns an iterator \n",
    "#that applies the function to each element of the iterable. The code below uses map() to find the mean of each list \n",
    "#in numbers to create the list averages\n",
    "numbers = [\n",
    "              [34, 63, 88, 71, 29],\n",
    "              [90, 78, 51, 27, 45],\n",
    "              [63, 37, 85, 46, 22],\n",
    "              [51, 22, 34, 11, 18]\n",
    "           ]\n",
    "\n",
    "mean = lambda num_list: sum(num_list)/len(num_list)\n",
    "#def mean(num_list):\n",
    "#    return sum(num_list) / len(num_list)\n",
    "\n",
    "averages = list(map(mean, numbers))\n",
    "print(averages)"
   ]
  },
  {
   "cell_type": "code",
   "execution_count": 2,
   "metadata": {},
   "outputs": [
    {
     "name": "stdout",
     "output_type": "stream",
     "text": [
      "['Chicago', 'Denver', 'Boston']\n"
     ]
    }
   ],
   "source": [
    "#filter() is a higher-order built-in function that takes a function and iterable as inputs and returns an iterator \n",
    "#with the elements from the iterable for which the function returns True. The code below uses filter() to get the\n",
    "#names in cities that are fewer than 10 characters long to create the list short_cities\n",
    "cities = [\"New York City\", \"Los Angeles\", \"Chicago\", \"Mountain View\", \"Denver\", \"Boston\"]\n",
    "\n",
    "#is_short = lambda name: len(name)<10  ---one way\n",
    "\n",
    "#def is_short(name):\n",
    "#    return len(name) < 10 \n",
    "#short_cities = list(filter(is_short, cities))--second way\n",
    "\n",
    "short_cities = list(filter(lambda name: len(name)<10, cities)) #--directly on the same line-third way \n",
    "print(short_cities)"
   ]
  },
  {
   "cell_type": "code",
   "execution_count": 1,
   "metadata": {},
   "outputs": [
    {
     "name": "stdout",
     "output_type": "stream",
     "text": [
      "<generator object my_range at 0x000001FC0D5A96D8>\n",
      "0\n",
      "1\n",
      "2\n",
      "3\n",
      "4\n"
     ]
    }
   ],
   "source": [
    "#Iterables are objects that can return one of their elements at a time, such as a list.\n",
    "#Many of the built-in functions we’ve used so far, like 'enumerate,' return an iterator.\n",
    "\n",
    "#An iterator is an object that represents a stream of data. This is different from a list, which is also an iterable, \n",
    "#but is not an iterator because it is not a stream of data.\n",
    "\n",
    "#Generators are a simple way to create iterators using functions. You can also define iterators using classes, ]\n",
    "#which you can read more about here.\n",
    "#eg: iterators\n",
    "def my_range(x):\n",
    "    i = 0\n",
    "    while i < x:\n",
    "        yield i  #Notice that instead of using the return keyword, it uses yield. This allows the function to \n",
    "                 #return values one at a time, and start where it left off each time it’s called. This yield keyword \n",
    "                 #is what differentiates a generator from a typical function.\n",
    "        #return i\n",
    "        i += 1\n",
    "print(my_range(5))\n",
    "for i in my_range(5): #Remember, since this returns an iterator, we can convert it to a list or iterate through it\n",
    "                      #in a loop to view its contents. For example, this code:\n",
    "    print (i)"
   ]
  },
  {
   "cell_type": "code",
   "execution_count": 2,
   "metadata": {},
   "outputs": [
    {
     "name": "stdout",
     "output_type": "stream",
     "text": [
      "my_enumerate function\n",
      "Lesson 1: Why Python Programming\n",
      "Lesson 2: Data Types and Operators\n",
      "Lesson 3: Control Flow\n",
      "Lesson 4: Functions\n",
      "Lesson 5: Scripting\n"
     ]
    }
   ],
   "source": [
    "lessons = [\"Why Python Programming\", \"Data Types and Operators\", \"Control Flow\", \"Functions\", \"Scripting\"]\n",
    "\n",
    "def my_enumerate(iterable, start=0):\n",
    "    # Implement your generator function here\n",
    "    print(\"my_enumerate function\")\n",
    "    while start <= len(iterable):\n",
    "        yield start, iterable[start-1]\n",
    "        start +=1\n",
    "\n",
    "#second way using for loop:\n",
    "#def my_enumerate(iterable, start=0):\n",
    "#    count = start\n",
    "#    for element in iterable:\n",
    "#        yield count, element\n",
    "#        count += 1\n",
    "\n",
    "\n",
    "for i, lesson in my_enumerate(lessons, 1):\n",
    "    print(\"Lesson {}: {}\".format(i, lesson))"
   ]
  },
  {
   "cell_type": "code",
   "execution_count": 1,
   "metadata": {},
   "outputs": [
    {
     "name": "stdout",
     "output_type": "stream",
     "text": [
      "[0, 1, 2, 3]\n",
      "[4, 5, 6, 7]\n",
      "[8, 9, 10, 11]\n",
      "[12, 13, 14, 15]\n",
      "[16, 17, 18, 19]\n",
      "[20, 21, 22, 23]\n",
      "[24]\n"
     ]
    }
   ],
   "source": [
    "def chunker(iterable, size):\n",
    "    \"\"\"Yield successive chunks from iterable of length size.\"\"\"\n",
    "    for i in range(0, len(iterable), size):\n",
    "        yield iterable[i:i + size]\n",
    "\n",
    "for chunk in chunker(range(25), 4):\n",
    "    print(list(chunk))"
   ]
  },
  {
   "cell_type": "code",
   "execution_count": 4,
   "metadata": {
    "scrolled": true
   },
   "outputs": [
    {
     "name": "stdout",
     "output_type": "stream",
     "text": [
      "[0, 1, 4, 9, 16, 25, 36, 49, 64, 81]\n",
      "<generator object <genexpr> at 0x0000018023730318>\n",
      "0\n",
      "1\n",
      "4\n",
      "9\n",
      "16\n",
      "25\n",
      "36\n",
      "49\n",
      "64\n",
      "81\n"
     ]
    }
   ],
   "source": [
    "sq_list = [x**2 for x in range(10)]  # this produces a list of squares\n",
    "print(sq_list)\n",
    "\n",
    "sq_iterator = (x**2 for x in range(10))  # this produces an iterator of squares\n",
    "print(sq_iterator)\n",
    "for i in sq_iterator:\n",
    "    print(i)"
   ]
  },
  {
   "cell_type": "code",
   "execution_count": 7,
   "metadata": {},
   "outputs": [
    {
     "name": "stdout",
     "output_type": "stream",
     "text": [
      "\n",
      "Welcome to Python3!\n",
      "\n",
      "             ____\n",
      "            / . .\\\n",
      "            \\  ---<\n",
      "             \\  /\n",
      "   __________/ /\n",
      "-=:___________/\n",
      "\n",
      "<3, Juno\n",
      "\n",
      "Welcome to Python3!\n",
      "\n",
      "             ____\n",
      "            / . .\\\n",
      "            \\  ---<\n",
      "             \\  /\n",
      "   __________/ /\n",
      "-=:___________/\n",
      "\n",
      "<3, Juno\n",
      "\n"
     ]
    }
   ],
   "source": [
    "how_many_snakes = 2\n",
    "snake_string = \"\"\"\n",
    "Welcome to Python3!\n",
    "\n",
    "             ____\n",
    "            / . .\\\\\n",
    "            \\  ---<\n",
    "             \\  /\n",
    "   __________/ /\n",
    "-=:___________/\n",
    "\n",
    "<3, Juno\n",
    "\"\"\"\n",
    "\n",
    "\n",
    "print(snake_string * how_many_snakes)"
   ]
  },
  {
   "cell_type": "code",
   "execution_count": 13,
   "metadata": {},
   "outputs": [
    {
     "name": "stdout",
     "output_type": "stream",
     "text": [
      "Enter an integer2\n",
      "hellohello\n",
      "Enter an expression: 22+3\n",
      "25\n"
     ]
    }
   ],
   "source": [
    "num = int(input(\"Enter an integer\"))\n",
    "print(\"hello\" * num)\n",
    "#We can also interpret user input as a Python expression using the built-in function eval. This function \n",
    "#evaluates a string as a line of Python.\n",
    "result = eval(input(\"Enter an expression: \")) #give input as an expression 2*3 , 4/2\n",
    "print(result)"
   ]
  },
  {
   "cell_type": "code",
   "execution_count": 29,
   "metadata": {},
   "outputs": [
    {
     "name": "stdout",
     "output_type": "stream",
     "text": [
      "Enter names separated by commas:siva,ashok,swathi\n",
      "Enter assignments separated by commas:1,2,3\n",
      "Enter grades separated by commas:1,2,0\n",
      "['siva', 'ashok', 'swathi']\n",
      "Hi Siva,\n",
      "\n",
      "This is a reminder that you have 1 assignments left to     submit before you can graduate. You're current grade is 1 and can increase     to 3 if you submit all assignments before the due date.\n",
      "\n",
      "\n",
      "Hi Ashok,\n",
      "\n",
      "This is a reminder that you have 2 assignments left to     submit before you can graduate. You're current grade is 2 and can increase     to 6 if you submit all assignments before the due date.\n",
      "\n",
      "\n",
      "Hi Swathi,\n",
      "\n",
      "This is a reminder that you have 3 assignments left to     submit before you can graduate. You're current grade is 0 and can increase     to 6 if you submit all assignments before the due date.\n",
      "\n",
      "\n"
     ]
    }
   ],
   "source": [
    "names =  list(input(\"Enter names separated by commas:\").split(\",\"))# get and process input for a list of names\n",
    "assignments = list(input(\"Enter assignments separated by commas:\").split(\",\"))# get and process input for a list of the number of assignments\n",
    "grades = list(input(\"Enter grades separated by commas:\").split(\",\")) # get and process input for a list of grades\n",
    "print(names)\n",
    "i=0\n",
    "while i < len(names):\n",
    "# message string to be used for each student\n",
    "# HINT: use .format() with this string in your for loop\n",
    "    message = \"Hi {},\\n\\nThis is a reminder that you have {} assignments left to \\\n",
    "    submit before you can graduate. You're current grade is {} and can increase \\\n",
    "    to {} if you submit all assignments before the due date.\\n\\n\".format(names[i].title(),assignments[i],grades[i], \n",
    "    int(grades[i]) + int(assignments[i])*2)\n",
    "    i=i+1\n",
    "    print(message)\n",
    "\n",
    "# write a for loop that iterates through each set of names, assignments, and grades to print each student's message\n"
   ]
  },
  {
   "cell_type": "code",
   "execution_count": null,
   "metadata": {},
   "outputs": [],
   "source": [
    "#errors- 2 types: syntax errors(python cann't interrupt) and exceptions (run time errors)\n",
    "while True:\n",
    "    try: #This is the only mandatory clause in a try statement. The code in this block is the first thing that \n",
    "         #Python runs in a try statement.\n",
    "        x=int(input(\"Enter a number:\"))\n",
    "        break\n",
    "    except:#If Python runs into an exception while running the try block, it will jump to the except block that \n",
    "           #handles that exception.\n",
    "        print(\"That's not a valid number \")\n",
    "    else:#If Python runs into no exceptions while running the try block, it will run the code in this block after \n",
    "         #running the try block.\n",
    "        print(\"Hello entered input is number\")        \n",
    "    finally:#Before Python leaves this try statement, it will run the code in this finally block under any \n",
    "            #conditions, even if it's ending the program. E.g., if Python ran into an error while running code in \n",
    "            #the except or else block, this finally block will still be executed before stopping the program.\n",
    "        print(\"\\nAttempted Input\\n\")\n",
    "        \n",
    "        \n",
    "#Different ways: If we want this handler to address more than one type of exception, we can include a \n",
    "#parenthesized tuple after the except with the exceptions.\n",
    "#try:\n",
    "    # some code\n",
    "#except (ValueError, KeyboardInterrupt):\n",
    "    # some code\n",
    "    \n",
    "#If we want to execute different blocks of code depending on the exception, you can have multiple except blocks.    \n",
    "#try:\n",
    "    # some code\n",
    "#except ValueError:\n",
    "    # some code\n",
    "#except KeyboardInterrupt:\n",
    "    # some code"
   ]
  },
  {
   "cell_type": "code",
   "execution_count": null,
   "metadata": {},
   "outputs": [
    {
     "name": "stdout",
     "output_type": "stream",
     "text": [
      "How many cookies are you baking? 24\n",
      "How many people are attending? 6\n",
      "Entered correct values\n",
      "Attempted Input\n",
      "\n",
      "Let's party! We'll have 6 people attending, they'll each get to eat 4 cookies, and we'll have 0 left over.\n",
      "\n",
      "Would you like to party more? (y or n) y\n",
      "How many cookies are you baking? 24\n",
      "How many people are attending? 0\n",
      "ZeroDivisionError occurred: integer division or modulo by zero\n",
      "People should me more than zero\n",
      "Attempted Input\n"
     ]
    }
   ],
   "source": [
    "def party_planner(cookies, people): \n",
    "    leftovers = None \n",
    "    num_each = None\n",
    "# TODO: Add a try-except block here to\n",
    "#       make sure no ZeroDivisionError occurs.\n",
    "    try:\n",
    "        num_each = cookies // people\n",
    "        leftovers = cookies % people\n",
    "    except ZeroDivisionError as e:  #we can access its error message like this: or Exception as e:\n",
    "        print(\"ZeroDivisionError occurred: {}\".format(e))\n",
    "        print(\"People should me more than zero\")\n",
    "    else:\n",
    "        print(\"Entered correct values\")        \n",
    "    finally:\n",
    "        print(\"Attempted Input\")\n",
    "\n",
    "    return(num_each, leftovers)\n",
    "\n",
    "lets_party = 'y' \n",
    "while lets_party == 'y':\n",
    "    cookies = int(input(\"How many cookies are you baking? \"))\n",
    "    people = int(input(\"How many people are attending? \"))\n",
    "\n",
    "    cookies_each, leftovers = party_planner(cookies, people)\n",
    "\n",
    "    if cookies_each:  # if cookies_each is not None\n",
    "        message = \"\\nLet's party! We'll have {} people attending, they'll each get to eat {} cookies, and we'll have {} left over.\"\n",
    "        print(message.format(people, cookies_each, leftovers))\n",
    "\n",
    "    lets_party = input(\"\\nWould you like to party more? (y or n) \")\n"
   ]
  },
  {
   "cell_type": "code",
   "execution_count": null,
   "metadata": {},
   "outputs": [],
   "source": [
    "#Files:\n",
    "f=open(r'C:\\Users\\POSIVA\\Downloads\\Python material\\Linkedin\\Ex_Files_Python_EssT\\udacitytestfile.txt','w')\n",
    "f.write(\"Hello World!\")\n",
    "f.close()"
   ]
  },
  {
   "cell_type": "code",
   "execution_count": null,
   "metadata": {},
   "outputs": [],
   "source": [
    "#With: python provides a special syntax that auto-closes a file for you once you're finished using it.\n",
    "with open('my_path/my_file.txt', 'r') as f:\n",
    "    file_data = f.read()\n",
    "#This with keyword allows you to open a file, do operations on it, and automatically close it after the indented \n",
    "#code is executed, in this case, reading from the file. Now, we don’t have to call f.close()! You can only access \n",
    "#the file object, f, within this indented block."
   ]
  },
  {
   "cell_type": "code",
   "execution_count": null,
   "metadata": {},
   "outputs": [],
   "source": [
    "#import local scripts\n",
    "#import other_script_name as osn\n",
    "#eg:\n",
    "import useful_functions\n",
    "#It's the standard convention for import statements to be written at the top of a Python script, each one on a \n",
    "#separate line. This import statement creates a module object called useful_functions. Modules are just Python \n",
    "#files that contain definitions and statements. To access objects from an imported module, you need to use dot \n",
    "#notation.\n",
    "import useful_functions \n",
    "useful_functions.add_five([1, 2, 3, 4])\n",
    "#or\n",
    "import useful_functions as uf #alias to an imported module\n",
    "uf.add_five([1, 2, 3, 4])"
   ]
  },
  {
   "cell_type": "code",
   "execution_count": 3,
   "metadata": {},
   "outputs": [
    {
     "name": "stdout",
     "output_type": "stream",
     "text": [
      "20.085536923187668\n"
     ]
    }
   ],
   "source": [
    "import math\n",
    "print(math.exp(3))  #prints e**3"
   ]
  },
  {
   "cell_type": "code",
   "execution_count": 2,
   "metadata": {},
   "outputs": [
    {
     "name": "stdout",
     "output_type": "stream",
     "text": [
      "Scores: [88, 92, 79, 93, 85]\n",
      "curved: [93, 97, 84, 98, 90]\n",
      "Original Mean: 87.4  New Mean: 92.4\n",
      "__main__\n",
      "useful_functions\n"
     ]
    }
   ],
   "source": [
    "#main block\n",
    "#To avoid running executable statements in a script when it's imported as a module in another script, include \n",
    "#these lines in an if __name__ == \"__main__\" block. Or alternatively, include them in a function called main() \n",
    "#and call this in the if main block.\n",
    "\n",
    "#Whenever we run a script like this, Python actually sets a special built-in variable called __name__ for any \n",
    "#module. When we run a script, Python recognizes this module as the main program, and sets the __name__ variable \n",
    "#for this module to the string \"__main__\". For any modules that are imported in this script, this \n",
    "#built-in __name__ variable is just set to the name of that module. Therefore, the condition \n",
    "#if __name__ == \"__main__\"is just checking whether this module is the main program.\n",
    "# demo.py\n",
    "\n",
    "import useful_functions as uf\n",
    "\n",
    "scores = [88, 92, 79, 93, 85]\n",
    "\n",
    "mean = uf.mean(scores)\n",
    "curved = uf.add_five(scores)\n",
    "\n",
    "mean_c = uf.mean(curved)\n",
    "\n",
    "print(\"Scores:\", scores)\n",
    "print(\"curved:\", curved)\n",
    "print(\"Original Mean:\", mean, \" New Mean:\", mean_c)\n",
    "\n",
    "print(__name__) #this module is main module\n",
    "print(uf.__name__) #imported module is useful_functions"
   ]
  },
  {
   "cell_type": "code",
   "execution_count": null,
   "metadata": {},
   "outputs": [],
   "source": [
    "import random\n",
    "def generate_password():\n",
    "    return random.choice(word_list) + random.choice(word_list) + random.choice(word_list)\n",
    "#or\n",
    "def generate_password():\n",
    "    return ''.join(random.sample(word_list,3))"
   ]
  },
  {
   "cell_type": "code",
   "execution_count": null,
   "metadata": {},
   "outputs": [],
   "source": [
    "#1. To import an individual function or class from a module:\n",
    "from module_name import object_name\n",
    "from random import randint\n",
    "randint(0,10)\n",
    "#2. To import multiple individual objects from a module:\n",
    "from module_name import first_object, second_object\n",
    "#3. To rename a module:\n",
    "import module_name as new_name\n",
    "import random as rd\n",
    "rd.randint(0,10)\n",
    "#4. To import an object from a module and rename it:\n",
    "from module_name import object_name as new_name\n",
    "from random import randint as rint\n",
    "rint(0,10)\n",
    "#5. To import every object individually from a module (DO NOT DO THIS):\n",
    "from module_name import *   #--not a good practice because variable names used in your script may override with\n",
    "#some of the classes or objects in it as it contains many classes or objects\n",
    "#Don't use this import statement\n",
    "#6. If you really want to use all of the objects from a module, use the standard import module_name statement \n",
    "#instead and access each of the objects with the dot notation.\n",
    "import module_name\n",
    "import random\n",
    "random.randint(0,10)"
   ]
  },
  {
   "cell_type": "code",
   "execution_count": null,
   "metadata": {},
   "outputs": [],
   "source": [
    "#Modules, packages and Names\n",
    "#In order to manage the code better, modules in the Python Standard Library are split down into sub-modules \n",
    "#that are contained within a package. A package is simply a module that contains sub-modules. A sub-module is \n",
    "#specified with the usual dot notation.\n",
    "\n",
    "#Modules that are submodules are specified by the package name and then the submodule name separated by a dot. \n",
    "#You can import the submodule like this.\n",
    "#eg: import os.path\n",
    "import package_name.submodule_name"
   ]
  },
  {
   "cell_type": "code",
   "execution_count": 5,
   "metadata": {},
   "outputs": [
    {
     "name": "stdout",
     "output_type": "stream",
     "text": [
      "['The', 'cow', 'jumped', 'over', 'the', 'moon.']\n",
      "['The', 'cow', 'jumped', 'over the moon.']\n",
      "['The cow jumped over the moon', '']\n",
      "['The', 'cow', 'jumped', 'over the moon.']\n"
     ]
    }
   ],
   "source": [
    "#split method-String function Split(separator, max splits)\n",
    "new_str = \"The cow jumped over the moon.\"\n",
    "print(new_str.split())\n",
    "print(new_str.split(' ', 3)) #max splits -3, maxsplit argument provides the maximum number of splits. \n",
    "#The argument gives maxsplit + 1 number of elements in the new list, with the remaining string being returned as \n",
    "#the last element in the list\n",
    "print(new_str.split('.'))\n",
    "print(new_str.split(None, 3))"
   ]
  },
  {
   "cell_type": "code",
   "execution_count": 6,
   "metadata": {
    "scrolled": true
   },
   "outputs": [
    {
     "name": "stdout",
     "output_type": "stream",
     "text": [
      "If you can keep your head when all about you\n",
      "  Are losing theirs and blaming it on you,\n",
      "If you can trust yourself when all men doubt you,\n",
      "  But make allowance for their doubting too;\n",
      "If you can wait and not be tired by waiting,\n",
      "  Or being lied about, don’t deal in lies,\n",
      "Or being hated, don’t give way to hating,\n",
      "  And yet don’t look too good, nor talk too wise:\n",
      "362\n",
      "65\n",
      "186\n",
      "186\n",
      "8\n"
     ]
    }
   ],
   "source": [
    "verse = \"If you can keep your head when all about you\\n  Are losing theirs and blaming it on you,\\nIf you can trust yourself when all men doubt you,\\n  But make allowance for their doubting too;\\nIf you can wait and not be tired by waiting,\\n  Or being lied about, don’t deal in lies,\\nOr being hated, don’t give way to hating,\\n  And yet don’t look too good, nor talk too wise:\"\n",
    "print(verse) \n",
    "print(len(verse))#lenght of the string\n",
    "print(verse.index('and'))#index of the first occurrence of the word 'and' in verse\n",
    "print(verse.rfind('you')) #index of the last occurrence of the word 'you' in verse\n",
    "print(verse.rindex('you'))#index of the last occurrence of the word 'you' in verse but it will raise TypeError\n",
    "print(verse.count('you')) #count of occurrences of the word 'you' in the verse"
   ]
  }
 ],
 "metadata": {
  "kernelspec": {
   "display_name": "Python 3",
   "language": "python",
   "name": "python3"
  },
  "language_info": {
   "codemirror_mode": {
    "name": "ipython",
    "version": 3
   },
   "file_extension": ".py",
   "mimetype": "text/x-python",
   "name": "python",
   "nbconvert_exporter": "python",
   "pygments_lexer": "ipython3",
   "version": "3.7.0"
  }
 },
 "nbformat": 4,
 "nbformat_minor": 2
}
